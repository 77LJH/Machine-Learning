{
 "cells": [
  {
   "cell_type": "code",
   "execution_count": 1,
   "metadata": {},
   "outputs": [
    {
     "data": {
      "text/plain": [
       "'\\n与原书不同，原书中一个样本xi 为列向量，本代码中一个样本xi为行向量\\n尝试了两种优化方法，梯度下降和牛顿法。两者结果基本相同，不过有时因初始化的原因，\\n会导致牛顿法中海森矩阵为奇异矩阵，np.linalg.inv(hess)会报错。以后有机会再写拟牛顿法吧。\\n'"
      ]
     },
     "execution_count": 1,
     "metadata": {},
     "output_type": "execute_result"
    }
   ],
   "source": [
    "'''\n",
    "与原书不同，原书中一个样本xi 为列向量，本代码中一个样本xi为行向量\n",
    "尝试了两种优化方法，梯度下降和牛顿法。两者结果基本相同，不过有时因初始化的原因，\n",
    "会导致牛顿法中海森矩阵为奇异矩阵，np.linalg.inv(hess)会报错。以后有机会再写拟牛顿法吧。\n",
    "'''"
   ]
  },
  {
   "cell_type": "code",
   "execution_count": 2,
   "metadata": {},
   "outputs": [],
   "source": [
    "import numpy as np\n",
    "import pandas as pd\n",
    "from matplotlib import pyplot as plt\n",
    "from sklearn import linear_model"
   ]
  },
  {
   "cell_type": "markdown",
   "metadata": {},
   "source": [
    "## 导入数据"
   ]
  },
  {
   "cell_type": "code",
   "execution_count": 3,
   "metadata": {},
   "outputs": [
    {
     "name": "stdout",
     "output_type": "stream",
     "text": [
      "[[1 '青绿' '蜷缩' '浊响' '清晰' '凹陷' '硬滑' 0.697 0.46 1]\n",
      " [2 '乌黑' '蜷缩' '沉闷' '清晰' '凹陷' '硬滑' 0.774 0.376 1]\n",
      " [3 '乌黑' '蜷缩' '浊响' '清晰' '凹陷' '硬滑' 0.634 0.264 1]\n",
      " [4 '青绿' '蜷缩' '沉闷' '清晰' '凹陷' '硬滑' 0.608 0.318 1]\n",
      " [5 '浅白' '蜷缩' '浊响' '清晰' '凹陷' '硬滑' 0.556 0.215 1]\n",
      " [6 '青绿' '稍蜷' '浊响' '清晰' '稍凹' '软粘' 0.403 0.237 1]\n",
      " [7 '乌黑' '稍蜷' '浊响' '稍糊' '稍凹' '软粘' 0.481 0.149 1]\n",
      " [8 '乌黑' '稍蜷' '浊响' '清晰' '稍凹' '硬滑' 0.437 0.211 1]\n",
      " [9 '乌黑' '稍蜷' '沉闷' '稍糊' '稍凹' '硬滑' 0.666 0.091 0]\n",
      " [10 '青绿' '硬挺' '清脆' '清晰' '平坦' '软粘' 0.243 0.267 0]\n",
      " [11 '浅白' '硬挺' '清脆' '模糊' '平坦' '硬滑' 0.245 0.057 0]\n",
      " [12 '浅白' '蜷缩' '浊响' '模糊' '平坦' '软粘' 0.343 0.099 0]\n",
      " [13 '青绿' '稍蜷' '浊响' '稍糊' '凹陷' '硬滑' 0.639 0.161 0]\n",
      " [14 '浅白' '稍蜷' '沉闷' '稍糊' '凹陷' '硬滑' 0.657 0.198 0]\n",
      " [15 '乌黑' '稍蜷' '浊响' '清晰' '稍凹' '软粘' 0.36 0.37 0]\n",
      " [16 '浅白' '蜷缩' '浊响' '模糊' '平坦' '硬滑' 0.593 0.042 0]\n",
      " [17 '青绿' '蜷缩' '沉闷' '稍糊' '稍凹' '硬滑' 0.719 0.103 0]] [[0.697 0.46 ]\n",
      " [0.774 0.376]\n",
      " [0.634 0.264]\n",
      " [0.608 0.318]\n",
      " [0.556 0.215]\n",
      " [0.403 0.237]\n",
      " [0.481 0.149]\n",
      " [0.437 0.211]\n",
      " [0.666 0.091]\n",
      " [0.243 0.267]\n",
      " [0.245 0.057]\n",
      " [0.343 0.099]\n",
      " [0.639 0.161]\n",
      " [0.657 0.198]\n",
      " [0.36  0.37 ]\n",
      " [0.593 0.042]\n",
      " [0.719 0.103]] [1 1 1 1 1 1 1 1 0 0 0 0 0 0 0 0 0] (17,)\n"
     ]
    }
   ],
   "source": [
    "data_path=r'watermelon3_0_Ch.csv'\n",
    "data=pd.read_csv(data_path).values\n",
    "\n",
    "X=data[:,7:9].astype(float)\n",
    "\n",
    "y=data[:,9]\n",
    "y[y=='是']=1\n",
    "y[y=='否']=0\n",
    "y=y.astype(int)\n",
    "\n",
    "print(data,X,y,y.shape)"
   ]
  },
  {
   "cell_type": "markdown",
   "metadata": {},
   "source": [
    "## 在二维图中打印西瓜分类数据集"
   ]
  },
  {
   "cell_type": "code",
   "execution_count": 4,
   "metadata": {},
   "outputs": [
    {
     "name": "stdout",
     "output_type": "stream",
     "text": [
      "[ True  True  True  True  True  True  True  True False False False False\n",
      " False False False False False] [False False False False False False False False  True  True  True  True\n",
      "  True  True  True  True  True]\n",
      "[0.697 0.774 0.634 0.608 0.556 0.403 0.481 0.437]\n"
     ]
    },
    {
     "name": "stderr",
     "output_type": "stream",
     "text": [
      "d:\\Anaconda\\lib\\site-packages\\IPython\\core\\pylabtools.py:151: UserWarning: Glyph 23494 (\\N{CJK UNIFIED IDEOGRAPH-5BC6}) missing from current font.\n",
      "  fig.canvas.print_figure(bytes_io, **kw)\n",
      "d:\\Anaconda\\lib\\site-packages\\IPython\\core\\pylabtools.py:151: UserWarning: Glyph 24230 (\\N{CJK UNIFIED IDEOGRAPH-5EA6}) missing from current font.\n",
      "  fig.canvas.print_figure(bytes_io, **kw)\n",
      "d:\\Anaconda\\lib\\site-packages\\IPython\\core\\pylabtools.py:151: UserWarning: Glyph 21547 (\\N{CJK UNIFIED IDEOGRAPH-542B}) missing from current font.\n",
      "  fig.canvas.print_figure(bytes_io, **kw)\n",
      "d:\\Anaconda\\lib\\site-packages\\IPython\\core\\pylabtools.py:151: UserWarning: Glyph 31958 (\\N{CJK UNIFIED IDEOGRAPH-7CD6}) missing from current font.\n",
      "  fig.canvas.print_figure(bytes_io, **kw)\n",
      "d:\\Anaconda\\lib\\site-packages\\IPython\\core\\pylabtools.py:151: UserWarning: Glyph 37327 (\\N{CJK UNIFIED IDEOGRAPH-91CF}) missing from current font.\n",
      "  fig.canvas.print_figure(bytes_io, **kw)\n"
     ]
    },
    {
     "data": {
      "image/png": "[encoded data removed]",
      "text/plain": [
       "<Figure size 640x480 with 1 Axes>"
      ]
     },
     "metadata": {},
     "output_type": "display_data"
    }
   ],
   "source": [
    "is_good = data[:, 9] == 1\n",
    "is_bad = data[:, 9] == 0\n",
    "print(is_good,is_bad)\n",
    "print(data[:,7][is_good])\n",
    "\n",
    "plt.scatter(data[:,7][is_good],data[:,8][is_good],c='k',marker='o',label='good')\n",
    "plt.scatter(data[:,7][is_bad],data[:,8][is_bad],c='r',marker='x',label='bad')\n",
    "plt.xlabel('密度')\n",
    "plt.ylabel('含糖量')\n",
    "plt.legend()\n",
    "plt.show()"
   ]
  },
  {
   "cell_type": "markdown",
   "metadata": {},
   "source": [
    "## 计算sigmoid函数"
   ]
  },
  {
   "cell_type": "code",
   "execution_count": 5,
   "metadata": {},
   "outputs": [],
   "source": [
    "def sigmoid(x):\n",
    "    return 1/(1+np.exp(-x))"
   ]
  },
  {
   "cell_type": "markdown",
   "metadata": {},
   "source": [
    "## 计算J_cost"
   ]
  },
  {
   "cell_type": "code",
   "execution_count": 6,
   "metadata": {},
   "outputs": [],
   "source": [
    "def J_cost(X,y,beta):\n",
    "    # 用于按列连接两个或多个数组\n",
    "    X_hat=np.c_[X,np.ones((X.shape[0],1))]\n",
    "    # 将其变为一个列向量,但好像多次一举嘞\n",
    "    beta=beta.reshape(-1,1)\n",
    "    y=y.reshape(-1,1)\n",
    "    z=np.dot(X_hat,beta)\n",
    "\n",
    "    # 计算逻辑损失（对数损失，Log Loss）\n",
    "    log_loss=np.sum(-y*z+np.log(1+np.exp(z)))\n",
    "    return log_loss\n",
    "    "
   ]
  },
  {
   "cell_type": "markdown",
   "metadata": {},
   "source": [
    "## 计算梯度"
   ]
  },
  {
   "cell_type": "code",
   "execution_count": 7,
   "metadata": {},
   "outputs": [],
   "source": [
    "def gradient(X,y,beta):\n",
    "    X_hat=np.c_[X,np.ones((X.shape[0],1))]\n",
    "    beta=beta.reshape(-1,1)\n",
    "    y=y.reshape(-1,1)\n",
    "    p1=sigmoid(np.dot(X_hat,beta))\n",
    "\n",
    "    # sum() 对整个数组的所有元素求和，返回一个标量值。\n",
    "    # sum(0) 对每一列进行求和，返回一个包含每列和的数组或矩阵。\n",
    "    grad=(-X_hat*(y-p1)).sum(0)\n",
    "    return grad.reshape(-1,1)\n",
    "    "
   ]
  },
  {
   "cell_type": "markdown",
   "metadata": {},
   "source": [
    "## 梯度下降法"
   ]
  },
  {
   "cell_type": "code",
   "execution_count": 8,
   "metadata": {},
   "outputs": [],
   "source": [
    "def update_param_gradDesc(X,y,beta,learning_rate,num_iteration,print_cost):\n",
    "    for i in range(num_iteration):\n",
    "        grad=gradient(X,y,beta)\n",
    "        beta=beta-learning_rate*grad\n",
    "        if(i%100==0) & print_cost:\n",
    "            print(\"{}th iteration,cost is {}\".format(i,J_cost(X,y,beta)))\n",
    "    return beta"
   ]
  },
  {
   "cell_type": "markdown",
   "metadata": {},
   "source": [
    "## 初始化beta"
   ]
  },
  {
   "cell_type": "code",
   "execution_count": 9,
   "metadata": {},
   "outputs": [],
   "source": [
    "def initialize_beta(n):\n",
    "    beta=np.random.randn(n+1,1)*0.5+1\n",
    "    return beta"
   ]
  },
  {
   "cell_type": "markdown",
   "metadata": {},
   "source": [
    "## 逻辑回归模型"
   ]
  },
  {
   "cell_type": "code",
   "execution_count": 10,
   "metadata": {},
   "outputs": [],
   "source": [
    "def logistic_model(X,y,print_cost=False,method='gradDesc',learning_rate=1.2,num_iteration=100):\n",
    "    m,n=X.shape\n",
    "    # 对w1,w2,b参数进行初始化\n",
    "    beta=initialize_beta(n)\n",
    "    \n",
    "    if method == 'gradDesc':\n",
    "        return update_param_gradDesc(X,y,beta,learning_rate,num_iteration,print_cost)\n",
    "    elif method == 'newton':\n",
    "        return update_param_newton(X,y,beta,learning_rate,num_iteration,print_cost)\n",
    "    else:\n",
    "        raise ValueError(\"unknown solver %s\" % method)"
   ]
  },
  {
   "cell_type": "markdown",
   "metadata": {},
   "source": [
    "## 可视化模型结果"
   ]
  },
  {
   "cell_type": "code",
   "execution_count": 11,
   "metadata": {},
   "outputs": [
    {
     "name": "stdout",
     "output_type": "stream",
     "text": [
      "0th iteration,cost is 12.447985435520831\n",
      "100th iteration,cost is 8.978751613299773\n",
      "200th iteration,cost is 8.748835194693237\n",
      "300th iteration,cost is 8.701300065430349\n",
      "400th iteration,cost is 8.688874320012465\n",
      "500th iteration,cost is 8.685270289298655\n",
      "600th iteration,cost is 8.684169126350298\n",
      "700th iteration,cost is 8.683823272362812\n",
      "800th iteration,cost is 8.683712994418778\n",
      "900th iteration,cost is 8.683677534626472\n",
      "[[ 3.15243785]\n",
      " [12.49884325]\n",
      " [-4.42110985]]\n"
     ]
    },
    {
     "data": {
      "text/plain": [
       "<matplotlib.legend.Legend at 0x1ca67e44190>"
      ]
     },
     "execution_count": 11,
     "metadata": {},
     "output_type": "execute_result"
    },
    {
     "data": {
      "image/png": "[encoded data removed]",
      "text/plain": [
       "<Figure size 640x480 with 1 Axes>"
      ]
     },
     "metadata": {},
     "output_type": "display_data"
    }
   ],
   "source": [
    "# 可视化模型结果\n",
    "beta=logistic_model(X,y,print_cost=True,method='gradDesc',learning_rate=0.3,num_iteration=1000)\n",
    "print(beta)\n",
    "w1,w2,intercept=beta\n",
    "x1=np.linspace(0,1)\n",
    "x2=-(w1*x1+intercept)/w2\n",
    "\n",
    "plt.xlabel('density')\n",
    "plt.ylabel('sugar content')\n",
    "plt.plot(x1,x2,c='green',label='my_logistic_gradDesc')\n",
    "plt.scatter(X[:,0][is_good],X[:,1][is_good],c='k',marker='o',label='good watermelon')\n",
    "plt.scatter(X[:,0][is_bad],X[:,1][is_bad],c='r',marker='x',label='bad watermelon')\n",
    "plt.legend()"
   ]
  },
  {
   "cell_type": "markdown",
   "metadata": {},
   "source": [
    "## 预测分类"
   ]
  },
  {
   "cell_type": "code",
   "execution_count": 12,
   "metadata": {},
   "outputs": [],
   "source": [
    "def predict(X, beta):\n",
    "    X_hat=np.c_[X,np.ones((X.shape[0],1))]\n",
    "    if np.dot(X_hat,beta)>0:\n",
    "        return 'good watermelon'\n",
    "    else:\n",
    "        return 'bad watermelon'\n",
    "    "
   ]
  },
  {
   "cell_type": "code",
   "execution_count": 13,
   "metadata": {},
   "outputs": [
    {
     "name": "stdout",
     "output_type": "stream",
     "text": [
      "bad watermelon\n"
     ]
    }
   ],
   "source": [
    "print(predict(np.array([[0.2,0.1]]),beta))"
   ]
  },
  {
   "cell_type": "markdown",
   "metadata": {},
   "source": [
    "## 用sklearn库进行逻辑回归模型的训练、可视化和预测"
   ]
  },
  {
   "cell_type": "code",
   "execution_count": 18,
   "metadata": {},
   "outputs": [
    {
     "name": "stdout",
     "output_type": "stream",
     "text": [
      "[0]\n"
     ]
    }
   ],
   "source": [
    "lr=linear_model.LogisticRegression(solver='lbfgs',C=1000)  # 注意sklearn的逻辑回归中，C越大表示正则化程度越低。\n",
    "lr.fit(X,y)\n",
    "print(lr.predict(np.array([[0.2,0.1]])))"
   ]
  },
  {
   "cell_type": "code",
   "execution_count": 20,
   "metadata": {},
   "outputs": [
    {
     "name": "stdout",
     "output_type": "stream",
     "text": [
      "[[ 3.03909749 11.95570987 -4.24959139]] (1, 3)\n",
      "8.687180339238743\n"
     ]
    }
   ],
   "source": [
    "lr_beta=np.c_[lr.coef_,lr.intercept_]\n",
    "print(lr_beta,lr_beta.shape)\n",
    "print(J_cost(X,y,lr_beta))"
   ]
  },
  {
   "cell_type": "code",
   "execution_count": 16,
   "metadata": {},
   "outputs": [],
   "source": [
    "w1_sk,w2_sk=lr.coef_[0,:]\n",
    "y1=np.linspace(0,1)\n",
    "y2=-(w1_sk*y1+lr.intercept_)/w2_sk"
   ]
  },
  {
   "cell_type": "code",
   "execution_count": 17,
   "metadata": {},
   "outputs": [
    {
     "data": {
      "text/plain": [
       "<matplotlib.legend.Legend at 0x1ca6ec66b50>"
      ]
     },
     "execution_count": 17,
     "metadata": {},
     "output_type": "execute_result"
    },
    {
     "data": {
      "image/png": "[encoded data removed]",
      "text/plain": [
       "<Figure size 640x480 with 1 Axes>"
      ]
     },
     "metadata": {},
     "output_type": "display_data"
    }
   ],
   "source": [
    "plt.scatter(X[:,0][is_good],X[:,1][is_good],c='k',marker='o',label='good watermelon')\n",
    "plt.scatter(X[:,0][is_bad],X[:,1][is_bad],c='r',marker='x',label='bad watermelon')\n",
    "plt.plot(x1,x2,c='green',label='my_logistic_gradDesc')\n",
    "plt.plot(y1,y2,c='pink',label=r'sklearn_logistic')\n",
    "plt.legend()\n"
   ]
  },
  {
   "cell_type": "code",
   "execution_count": null,
   "metadata": {},
   "outputs": [],
   "source": []
  }
 ],
 "metadata": {
  "kernelspec": {
   "display_name": "base",
   "language": "python",
   "name": "python3"
  },
  "language_info": {
   "codemirror_mode": {
    "name": "ipython",
    "version": 3
   },
   "file_extension": ".py",
   "mimetype": "text/x-python",
   "name": "python",
   "nbconvert_exporter": "python",
   "pygments_lexer": "ipython3",
   "version": "3.9.13"
  },
  "orig_nbformat": 4
 },
 "nbformat": 4,
 "nbformat_minor": 2
}
