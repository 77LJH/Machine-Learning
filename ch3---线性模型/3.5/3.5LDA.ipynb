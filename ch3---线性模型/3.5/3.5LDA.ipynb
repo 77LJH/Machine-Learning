{
 "cells": [
  {
   "cell_type": "code",
   "execution_count": 2,
   "metadata": {},
   "outputs": [],
   "source": [
    "import numpy as np\n",
    "import pandas as pd\n",
    "from matplotlib import pyplot as plt"
   ]
  },
  {
   "cell_type": "code",
   "execution_count": 17,
   "metadata": {},
   "outputs": [],
   "source": [
    "class LDA():\n",
    "    def fit(self,X_,y_,plot_=False):\n",
    "        pos=y_==1\n",
    "        neg=y_==0\n",
    "        X0=X_[neg]\n",
    "        X1=X_[pos]\n",
    "\n",
    "        u0=X0.mean(0,keepdims=True) # (1,n)\n",
    "        u1=X1.mean(0,keepdims=True)\n",
    "\n",
    "        sw = np.dot((X0 - u0).T, X0 - u0) + np.dot((X1 - u1).T, X1 - u1)\n",
    "        w=np.dot(np.linalg.inv(sw),(u0-u1).T)\n",
    "\n",
    "        if plot_:\n",
    "            fig,ax=plt.subplots()\n",
    "            ax.spines\n",
    "\n",
    "            plt.scatter(X1[:,0],X1[:,1],c='k',label='good',marker='o')\n",
    "            plt.scatter(X0[:,0],X0[:,1],c='r',label='bad',marker='x')\n",
    "            plt.xlabel('密度')\n",
    "            plt.ylabel('含糖量')\n",
    "            plt.legend()\n",
    "            plt.show()"
   ]
  },
  {
   "cell_type": "code",
   "execution_count": 18,
   "metadata": {},
   "outputs": [
    {
     "data": {
      "text/plain": [
       "(array([[0.697, 0.46 ],\n",
       "        [0.774, 0.376],\n",
       "        [0.634, 0.264],\n",
       "        [0.608, 0.318],\n",
       "        [0.556, 0.215],\n",
       "        [0.403, 0.237],\n",
       "        [0.481, 0.149],\n",
       "        [0.437, 0.211],\n",
       "        [0.666, 0.091],\n",
       "        [0.243, 0.267],\n",
       "        [0.245, 0.057],\n",
       "        [0.343, 0.099],\n",
       "        [0.639, 0.161],\n",
       "        [0.657, 0.198],\n",
       "        [0.36 , 0.37 ],\n",
       "        [0.593, 0.042],\n",
       "        [0.719, 0.103]]),\n",
       " array([1, 1, 1, 1, 1, 1, 1, 1, 0, 0, 0, 0, 0, 0, 0, 0, 0], dtype=object))"
      ]
     },
     "execution_count": 18,
     "metadata": {},
     "output_type": "execute_result"
    }
   ],
   "source": [
    "data=pd.read_csv('watermelon3_0_Ch.csv').values\n",
    "X=data[:,7:9].astype(float)\n",
    "y=data[:,9]\n",
    "y[y=='是']=1\n",
    "y[y=='否']=0\n",
    "y.astype(int)\n",
    "X,y"
   ]
  },
  {
   "cell_type": "code",
   "execution_count": 19,
   "metadata": {},
   "outputs": [
    {
     "name": "stderr",
     "output_type": "stream",
     "text": [
      "d:\\Anaconda\\lib\\site-packages\\IPython\\core\\pylabtools.py:151: UserWarning: Glyph 23494 (\\N{CJK UNIFIED IDEOGRAPH-5BC6}) missing from current font.\n",
      "  fig.canvas.print_figure(bytes_io, **kw)\n",
      "d:\\Anaconda\\lib\\site-packages\\IPython\\core\\pylabtools.py:151: UserWarning: Glyph 24230 (\\N{CJK UNIFIED IDEOGRAPH-5EA6}) missing from current font.\n",
      "  fig.canvas.print_figure(bytes_io, **kw)\n",
      "d:\\Anaconda\\lib\\site-packages\\IPython\\core\\pylabtools.py:151: UserWarning: Glyph 21547 (\\N{CJK UNIFIED IDEOGRAPH-542B}) missing from current font.\n",
      "  fig.canvas.print_figure(bytes_io, **kw)\n",
      "d:\\Anaconda\\lib\\site-packages\\IPython\\core\\pylabtools.py:151: UserWarning: Glyph 31958 (\\N{CJK UNIFIED IDEOGRAPH-7CD6}) missing from current font.\n",
      "  fig.canvas.print_figure(bytes_io, **kw)\n",
      "d:\\Anaconda\\lib\\site-packages\\IPython\\core\\pylabtools.py:151: UserWarning: Glyph 37327 (\\N{CJK UNIFIED IDEOGRAPH-91CF}) missing from current font.\n",
      "  fig.canvas.print_figure(bytes_io, **kw)\n"
     ]
    },
    {
     "data": {
      "image/png": "[encoded data removed]",
      "text/plain": [
       "<Figure size 640x480 with 1 Axes>"
      ]
     },
     "metadata": {},
     "output_type": "display_data"
    }
   ],
   "source": [
    "lda=LDA()\n",
    "lda.fit(X,y,plot_=True)"
   ]
  }
 ],
 "metadata": {
  "kernelspec": {
   "display_name": "base",
   "language": "python",
   "name": "python3"
  },
  "language_info": {
   "codemirror_mode": {
    "name": "ipython",
    "version": 3
   },
   "file_extension": ".py",
   "mimetype": "text/x-python",
   "name": "python",
   "nbconvert_exporter": "python",
   "pygments_lexer": "ipython3",
   "version": "3.9.13"
  },
  "orig_nbformat": 4
 },
 "nbformat": 4,
 "nbformat_minor": 2
}
