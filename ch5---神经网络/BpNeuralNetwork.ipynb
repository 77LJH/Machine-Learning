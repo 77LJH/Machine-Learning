{
 "cells": [
  {
   "cell_type": "markdown",
   "metadata": {},
   "source": [
    "## 导包"
   ]
  },
  {
   "cell_type": "code",
   "execution_count": 1,
   "metadata": {},
   "outputs": [],
   "source": [
    "import numpy as np\n",
    "import pandas as pd\n",
    "from sklearn import datasets\n",
    "import bpnnUtil"
   ]
  },
  {
   "cell_type": "code",
   "execution_count": 2,
   "metadata": {},
   "outputs": [
    {
     "name": "stdout",
     "output_type": "stream",
     "text": [
      "0\n",
      "1\n"
     ]
    }
   ],
   "source": [
    "for i in range(len([3,3])):\n",
    "    print(i)"
   ]
  },
  {
   "cell_type": "code",
   "execution_count": 3,
   "metadata": {},
   "outputs": [
    {
     "data": {
      "text/plain": [
       "{'W1': array([[ 0.06397436, -0.76423673, -0.29723399,  0.03316519],\n",
       "        [-0.61774744, -0.3106843 , -0.4444739 ,  0.24945493],\n",
       "        [-0.39344855,  0.05937178, -0.37843157,  0.24668345]]),\n",
       " 'b1': array([[0., 0., 0.]]),\n",
       " 'W2': array([[-0.48463031, -0.58602314, -0.19775383],\n",
       "        [ 1.0879958 , -0.15641164, -0.83815055],\n",
       "        [-0.62363007,  1.48094764, -0.12714567]]),\n",
       " 'b2': array([[0., 0., 0.]])}"
      ]
     },
     "execution_count": 3,
     "metadata": {},
     "output_type": "execute_result"
    }
   ],
   "source": [
    "para=bpnnUtil.xavier_initializer([4,3,3])\n",
    "para"
   ]
  },
  {
   "cell_type": "code",
   "execution_count": 4,
   "metadata": {},
   "outputs": [
    {
     "data": {
      "text/html": [
       "<div>\n",
       "<style scoped>\n",
       "    .dataframe tbody tr th:only-of-type {\n",
       "        vertical-align: middle;\n",
       "    }\n",
       "\n",
       "    .dataframe tbody tr th {\n",
       "        vertical-align: top;\n",
       "    }\n",
       "\n",
       "    .dataframe thead th {\n",
       "        text-align: right;\n",
       "    }\n",
       "</style>\n",
       "<table border=\"1\" class=\"dataframe\">\n",
       "  <thead>\n",
       "    <tr style=\"text-align: right;\">\n",
       "      <th></th>\n",
       "      <th>sepal length (cm)</th>\n",
       "      <th>sepal width (cm)</th>\n",
       "      <th>petal length (cm)</th>\n",
       "      <th>petal width (cm)</th>\n",
       "    </tr>\n",
       "  </thead>\n",
       "  <tbody>\n",
       "    <tr>\n",
       "      <th>0</th>\n",
       "      <td>-1.091336</td>\n",
       "      <td>2.345715</td>\n",
       "      <td>-0.761750</td>\n",
       "      <td>-1.731548</td>\n",
       "    </tr>\n",
       "    <tr>\n",
       "      <th>1</th>\n",
       "      <td>-1.384969</td>\n",
       "      <td>-0.303812</td>\n",
       "      <td>-0.761750</td>\n",
       "      <td>-1.731548</td>\n",
       "    </tr>\n",
       "    <tr>\n",
       "      <th>2</th>\n",
       "      <td>-1.678602</td>\n",
       "      <td>0.755999</td>\n",
       "      <td>-0.794055</td>\n",
       "      <td>-1.731548</td>\n",
       "    </tr>\n",
       "    <tr>\n",
       "      <th>3</th>\n",
       "      <td>-1.825419</td>\n",
       "      <td>0.226093</td>\n",
       "      <td>-0.729445</td>\n",
       "      <td>-1.731548</td>\n",
       "    </tr>\n",
       "    <tr>\n",
       "      <th>4</th>\n",
       "      <td>-1.238153</td>\n",
       "      <td>2.875621</td>\n",
       "      <td>-0.761750</td>\n",
       "      <td>-1.731548</td>\n",
       "    </tr>\n",
       "    <tr>\n",
       "      <th>...</th>\n",
       "      <td>...</td>\n",
       "      <td>...</td>\n",
       "      <td>...</td>\n",
       "      <td>...</td>\n",
       "    </tr>\n",
       "    <tr>\n",
       "      <th>145</th>\n",
       "      <td>1.257728</td>\n",
       "      <td>-0.303812</td>\n",
       "      <td>0.465837</td>\n",
       "      <td>1.907129</td>\n",
       "    </tr>\n",
       "    <tr>\n",
       "      <th>146</th>\n",
       "      <td>0.670462</td>\n",
       "      <td>-2.953340</td>\n",
       "      <td>0.401227</td>\n",
       "      <td>1.214047</td>\n",
       "    </tr>\n",
       "    <tr>\n",
       "      <th>147</th>\n",
       "      <td>0.964095</td>\n",
       "      <td>-0.303812</td>\n",
       "      <td>0.465837</td>\n",
       "      <td>1.387318</td>\n",
       "    </tr>\n",
       "    <tr>\n",
       "      <th>148</th>\n",
       "      <td>0.523646</td>\n",
       "      <td>1.815810</td>\n",
       "      <td>0.530447</td>\n",
       "      <td>1.907129</td>\n",
       "    </tr>\n",
       "    <tr>\n",
       "      <th>149</th>\n",
       "      <td>0.083196</td>\n",
       "      <td>-0.303812</td>\n",
       "      <td>0.433532</td>\n",
       "      <td>1.040777</td>\n",
       "    </tr>\n",
       "  </tbody>\n",
       "</table>\n",
       "<p>150 rows × 4 columns</p>\n",
       "</div>"
      ],
      "text/plain": [
       "     sepal length (cm)  sepal width (cm)  petal length (cm)  petal width (cm)\n",
       "0            -1.091336          2.345715          -0.761750         -1.731548\n",
       "1            -1.384969         -0.303812          -0.761750         -1.731548\n",
       "2            -1.678602          0.755999          -0.794055         -1.731548\n",
       "3            -1.825419          0.226093          -0.729445         -1.731548\n",
       "4            -1.238153          2.875621          -0.761750         -1.731548\n",
       "..                 ...               ...                ...               ...\n",
       "145           1.257728         -0.303812           0.465837          1.907129\n",
       "146           0.670462         -2.953340           0.401227          1.214047\n",
       "147           0.964095         -0.303812           0.465837          1.387318\n",
       "148           0.523646          1.815810           0.530447          1.907129\n",
       "149           0.083196         -0.303812           0.433532          1.040777\n",
       "\n",
       "[150 rows x 4 columns]"
      ]
     },
     "execution_count": 4,
     "metadata": {},
     "output_type": "execute_result"
    }
   ],
   "source": [
    "iris=datasets.load_iris()\n",
    "X=pd.DataFrame(iris['data'],columns=iris['feature_names'])\n",
    "X=(X-np.mean(X,axis=0))/np.var(X,axis=0)\n",
    "X"
   ]
  },
  {
   "cell_type": "code",
   "execution_count": 5,
   "metadata": {},
   "outputs": [
    {
     "data": {
      "text/html": [
       "<div>\n",
       "<style scoped>\n",
       "    .dataframe tbody tr th:only-of-type {\n",
       "        vertical-align: middle;\n",
       "    }\n",
       "\n",
       "    .dataframe tbody tr th {\n",
       "        vertical-align: top;\n",
       "    }\n",
       "\n",
       "    .dataframe thead th {\n",
       "        text-align: right;\n",
       "    }\n",
       "</style>\n",
       "<table border=\"1\" class=\"dataframe\">\n",
       "  <thead>\n",
       "    <tr style=\"text-align: right;\">\n",
       "      <th></th>\n",
       "      <th>setosa</th>\n",
       "      <th>versicolor</th>\n",
       "      <th>virginica</th>\n",
       "    </tr>\n",
       "  </thead>\n",
       "  <tbody>\n",
       "    <tr>\n",
       "      <th>0</th>\n",
       "      <td>1</td>\n",
       "      <td>0</td>\n",
       "      <td>0</td>\n",
       "    </tr>\n",
       "    <tr>\n",
       "      <th>1</th>\n",
       "      <td>1</td>\n",
       "      <td>0</td>\n",
       "      <td>0</td>\n",
       "    </tr>\n",
       "    <tr>\n",
       "      <th>2</th>\n",
       "      <td>1</td>\n",
       "      <td>0</td>\n",
       "      <td>0</td>\n",
       "    </tr>\n",
       "    <tr>\n",
       "      <th>3</th>\n",
       "      <td>1</td>\n",
       "      <td>0</td>\n",
       "      <td>0</td>\n",
       "    </tr>\n",
       "    <tr>\n",
       "      <th>4</th>\n",
       "      <td>1</td>\n",
       "      <td>0</td>\n",
       "      <td>0</td>\n",
       "    </tr>\n",
       "    <tr>\n",
       "      <th>...</th>\n",
       "      <td>...</td>\n",
       "      <td>...</td>\n",
       "      <td>...</td>\n",
       "    </tr>\n",
       "    <tr>\n",
       "      <th>145</th>\n",
       "      <td>0</td>\n",
       "      <td>0</td>\n",
       "      <td>1</td>\n",
       "    </tr>\n",
       "    <tr>\n",
       "      <th>146</th>\n",
       "      <td>0</td>\n",
       "      <td>0</td>\n",
       "      <td>1</td>\n",
       "    </tr>\n",
       "    <tr>\n",
       "      <th>147</th>\n",
       "      <td>0</td>\n",
       "      <td>0</td>\n",
       "      <td>1</td>\n",
       "    </tr>\n",
       "    <tr>\n",
       "      <th>148</th>\n",
       "      <td>0</td>\n",
       "      <td>0</td>\n",
       "      <td>1</td>\n",
       "    </tr>\n",
       "    <tr>\n",
       "      <th>149</th>\n",
       "      <td>0</td>\n",
       "      <td>0</td>\n",
       "      <td>1</td>\n",
       "    </tr>\n",
       "  </tbody>\n",
       "</table>\n",
       "<p>150 rows × 3 columns</p>\n",
       "</div>"
      ],
      "text/plain": [
       "     setosa  versicolor  virginica\n",
       "0         1           0          0\n",
       "1         1           0          0\n",
       "2         1           0          0\n",
       "3         1           0          0\n",
       "4         1           0          0\n",
       "..      ...         ...        ...\n",
       "145       0           0          1\n",
       "146       0           0          1\n",
       "147       0           0          1\n",
       "148       0           0          1\n",
       "149       0           0          1\n",
       "\n",
       "[150 rows x 3 columns]"
      ]
     },
     "execution_count": 5,
     "metadata": {},
     "output_type": "execute_result"
    }
   ],
   "source": [
    "y=pd.Series(iris['target_names'][iris['target']])\n",
    "y=pd.get_dummies(y)\n",
    "y"
   ]
  },
  {
   "cell_type": "code",
   "execution_count": 6,
   "metadata": {},
   "outputs": [
    {
     "data": {
      "text/plain": [
       "[4, 3, 3]"
      ]
     },
     "execution_count": 6,
     "metadata": {},
     "output_type": "execute_result"
    }
   ],
   "source": [
    "a=[3,3]\n",
    "a.insert(0,4)\n",
    "a"
   ]
  },
  {
   "cell_type": "code",
   "execution_count": 7,
   "metadata": {},
   "outputs": [
    {
     "name": "stdout",
     "output_type": "stream",
     "text": [
      "[[ 0.  -1.  -1.9]\n",
      " [-1.   0.  -1.9]\n",
      " [-1.9 -1.   0. ]]\n",
      "[[1.         0.36787944 0.14956862]\n",
      " [0.36787944 1.         0.14956862]\n",
      " [0.14956862 0.36787944 1.        ]]\n",
      "[[0.65900114 0.24243297 0.09856589]\n",
      " [0.24243297 0.65900114 0.09856589]\n",
      " [0.09856589 0.24243297 0.65900114]]\n"
     ]
    }
   ],
   "source": [
    "z = np.array([[2.0, 1.0, 0.1],\n",
    "              [1.0, 2.0, 0.1],\n",
    "              [0.1, 1.0, 2.0]])\n",
    "z-=np.max(z)\n",
    "print(z)\n",
    "z_exp=np.exp(z)\n",
    "print(z_exp)\n",
    "z_softmax=z_exp/np.sum(z_exp,axis=1,keepdims=True)\n",
    "print(z_softmax)"
   ]
  },
  {
   "cell_type": "code",
   "execution_count": 8,
   "metadata": {},
   "outputs": [
    {
     "name": "stdout",
     "output_type": "stream",
     "text": [
      "[[0.36354804]]\n",
      "0.3635480396729776\n",
      "1.9560115027140728\n",
      "测试通过！\n"
     ]
    }
   ],
   "source": [
    "import numpy as np\n",
    "\n",
    "# 二分类交叉熵损失测试用例\n",
    "y_hat_binary = np.array([0.8, 0.3, 0.6]).reshape(-1,1)  # 模型的输出值\n",
    "y_binary = np.array([1, 0, 1]).reshape(-1,1)  # 真实标签\n",
    "loss_binary = bpnnUtil.cross_entry_sigmoid(y_hat_binary, y_binary)\n",
    "print(-(np.dot(y_binary.T, np.log(y_hat_binary)) + np.dot(1 - y_binary.T, np.log(1 - y_hat_binary))) / 3)\n",
    "print(loss_binary)\n",
    "expected_loss_binary = 0.8813735870195426  # 期望的损失值\n",
    "\n",
    "# 多类分类交叉熵损失测试用例\n",
    "y_hat_multiclass = np.array([[0.2, 0.5, 0.3], [0.7, 0.1, 0.2]])  # 模型的输出值\n",
    "y_multiclass = np.array([[1, 0, 0], [0, 1, 0]])  # 真实标签\n",
    "loss_multiclass = bpnnUtil.cross_entry_softmax(y_hat_multiclass, y_multiclass)\n",
    "print(loss_multiclass)\n",
    "expected_loss_multiclass = 0.7135581778200728  # 期望的损失值\n",
    "\n",
    "# # 检查结果是否与期望值一致\n",
    "# assert np.isclose(loss_binary, expected_loss_binary, atol=1e-7)\n",
    "# assert np.isclose(loss_multiclass, expected_loss_multiclass, atol=1e-7)\n",
    "\n",
    "print(\"测试通过！\")\n"
   ]
  },
  {
   "cell_type": "code",
   "execution_count": 11,
   "metadata": {},
   "outputs": [
    {
     "name": "stdout",
     "output_type": "stream",
     "text": [
      "2.0\n",
      "[[0.9 0.6 0.5]]\n"
     ]
    }
   ],
   "source": [
    "print(np.sum([[0.2, 0.5, 0.3], [0.7, 0.1, 0.2]]))\n",
    "print(np.sum([[0.2, 0.5, 0.3], [0.7, 0.1, 0.2]],axis=0,keepdims=True))"
   ]
  },
  {
   "cell_type": "code",
   "execution_count": 10,
   "metadata": {},
   "outputs": [
    {
     "name": "stdout",
     "output_type": "stream",
     "text": [
      "1\n"
     ]
    }
   ],
   "source": [
    "for i in range(1,0,-1):\n",
    "    print(i)"
   ]
  },
  {
   "cell_type": "code",
   "execution_count": null,
   "metadata": {},
   "outputs": [],
   "source": []
  }
 ],
 "metadata": {
  "kernelspec": {
   "display_name": "base",
   "language": "python",
   "name": "python3"
  },
  "language_info": {
   "codemirror_mode": {
    "name": "ipython",
    "version": 3
   },
   "file_extension": ".py",
   "mimetype": "text/x-python",
   "name": "python",
   "nbconvert_exporter": "python",
   "pygments_lexer": "ipython3",
   "version": "3.9.13"
  },
  "orig_nbformat": 4
 },
 "nbformat": 4,
 "nbformat_minor": 2
}
