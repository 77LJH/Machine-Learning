{
 "cells": [
  {
   "cell_type": "code",
   "execution_count": 1,
   "id": "initial_id",
   "metadata": {
    "collapsed": true,
    "ExecuteTime": {
     "end_time": "2023-10-24T04:53:37.819259800Z",
     "start_time": "2023-10-24T04:53:36.226198900Z"
    }
   },
   "outputs": [],
   "source": [
    "from sklearn.linear_model import LogisticRegression\n",
    "from sklearn import datasets\n",
    "import numpy as np\n",
    "import matplotlib.pyplot as plt"
   ]
  },
  {
   "cell_type": "markdown",
   "source": [
    "# load dataset"
   ],
   "metadata": {
    "collapsed": false
   },
   "id": "b3717b6246044744"
  },
  {
   "cell_type": "code",
   "execution_count": 56,
   "outputs": [
    {
     "name": "stdout",
     "output_type": "stream",
     "text": [
      "<class 'sklearn.utils._bunch.Bunch'>\n",
      "['data', 'target', 'frame', 'target_names', 'DESCR', 'feature_names', 'filename', 'data_module']\n",
      "['sepal length (cm)', 'sepal width (cm)', 'petal length (cm)', 'petal width (cm)']\n",
      "[0 0 0 0 0 0 0 0 0 0 0 0 0 0 0 0 0 0 0 0 0 0 0 0 0 0 0 0 0 0 0 0 0 0 0 0 0\n",
      " 0 0 0 0 0 0 0 0 0 0 0 0 0 1 1 1 1 1 1 1 1 1 1 1 1 1 1 1 1 1 1 1 1 1 1 1 1\n",
      " 1 1 1 1 1 1 1 1 1 1 1 1 1 1 1 1 1 1 1 1 1 1 1 1 1 1 2 2 2 2 2 2 2 2 2 2 2\n",
      " 2 2 2 2 2 2 2 2 2 2 2 2 2 2 2 2 2 2 2 2 2 2 2 2 2 2 2 2 2 2 2 2 2 2 2 2 2\n",
      " 2 2]\n",
      ".. _iris_dataset:\n",
      "\n",
      "Iris plants dataset\n",
      "--------------------\n",
      "\n",
      "**Data Set Characteristics:**\n",
      "\n",
      "    :Number of Instances: 150 (50 in each of three classes)\n",
      "    :Number of Attributes: 4 numeric, predictive attributes and the class\n",
      "    :Attribute Information:\n",
      "        - sepal length in cm\n",
      "        - sepal width in cm\n",
      "        - petal length in cm\n",
      "        - petal width in cm\n",
      "        - class:\n",
      "                - Iris-Setosa\n",
      "                - Iris-Versicolour\n",
      "                - Iris-Virginica\n",
      "                \n",
      "    :Summary Statistics:\n",
      "\n",
      "    ============== ==== ==== ======= ===== ====================\n",
      "                    Min  Max   Mean    SD   Class Correlation\n",
      "    ============== ==== ==== ======= ===== ====================\n",
      "    sepal length:   4.3  7.9   5.84   0.83    0.7826\n",
      "    sepal width:    2.0  4.4   3.05   0.43   -0.4194\n",
      "    petal length:   1.0  6.9   3.76   1.76    0.9490  (high!)\n",
      "    petal width:    0.1  2.5   1.20   0.76    0.9565  (high!)\n",
      "    ============== ==== ==== ======= ===== ====================\n",
      "\n",
      "    :Missing Attribute Values: None\n",
      "    :Class Distribution: 33.3% for each of 3 classes.\n",
      "    :Creator: R.A. Fisher\n",
      "    :Donor: Michael Marshall (MARSHALL%PLU@io.arc.nasa.gov)\n",
      "    :Date: July, 1988\n",
      "\n",
      "The famous Iris database, first used by Sir R.A. Fisher. The dataset is taken\n",
      "from Fisher's paper. Note that it's the same as in R, but not as in the UCI\n",
      "Machine Learning Repository, which has two wrong data points.\n",
      "\n",
      "This is perhaps the best known database to be found in the\n",
      "pattern recognition literature.  Fisher's paper is a classic in the field and\n",
      "is referenced frequently to this day.  (See Duda & Hart, for example.)  The\n",
      "data set contains 3 classes of 50 instances each, where each class refers to a\n",
      "type of iris plant.  One class is linearly separable from the other 2; the\n",
      "latter are NOT linearly separable from each other.\n",
      "\n",
      ".. topic:: References\n",
      "\n",
      "   - Fisher, R.A. \"The use of multiple measurements in taxonomic problems\"\n",
      "     Annual Eugenics, 7, Part II, 179-188 (1936); also in \"Contributions to\n",
      "     Mathematical Statistics\" (John Wiley, NY, 1950).\n",
      "   - Duda, R.O., & Hart, P.E. (1973) Pattern Classification and Scene Analysis.\n",
      "     (Q327.D83) John Wiley & Sons.  ISBN 0-471-22361-1.  See page 218.\n",
      "   - Dasarathy, B.V. (1980) \"Nosing Around the Neighborhood: A New System\n",
      "     Structure and Classification Rule for Recognition in Partially Exposed\n",
      "     Environments\".  IEEE Transactions on Pattern Analysis and Machine\n",
      "     Intelligence, Vol. PAMI-2, No. 1, 67-71.\n",
      "   - Gates, G.W. (1972) \"The Reduced Nearest Neighbor Rule\".  IEEE Transactions\n",
      "     on Information Theory, May 1972, 431-433.\n",
      "   - See also: 1988 MLC Proceedings, 54-64.  Cheeseman et al\"s AUTOCLASS II\n",
      "     conceptual clustering system finds 3 classes in the data.\n",
      "   - Many, many more ...\n"
     ]
    }
   ],
   "source": [
    "iris=datasets.load_iris()\n",
    "print(type(iris))\n",
    "print(list(iris.keys()))\n",
    "print(iris['feature_names'])\n",
    "print(iris['target'])\n",
    "print(iris['DESCR'])"
   ],
   "metadata": {
    "collapsed": false,
    "ExecuteTime": {
     "end_time": "2023-10-24T14:31:37.633799500Z",
     "start_time": "2023-10-24T14:31:37.612265700Z"
    }
   },
   "id": "e935a42c54af2141"
  },
  {
   "cell_type": "code",
   "execution_count": 10,
   "outputs": [
    {
     "name": "stdout",
     "output_type": "stream",
     "text": [
      "<class 'numpy.ndarray'> <class 'numpy.ndarray'>\n",
      "[[0.2]\n",
      " [0.2]\n",
      " [0.2]\n",
      " [0.2]\n",
      " [0.2]\n",
      " [0.4]\n",
      " [0.3]\n",
      " [0.2]\n",
      " [0.2]\n",
      " [0.1]\n",
      " [0.2]\n",
      " [0.2]\n",
      " [0.1]\n",
      " [0.1]\n",
      " [0.2]\n",
      " [0.4]\n",
      " [0.4]\n",
      " [0.3]\n",
      " [0.3]\n",
      " [0.3]\n",
      " [0.2]\n",
      " [0.4]\n",
      " [0.2]\n",
      " [0.5]\n",
      " [0.2]\n",
      " [0.2]\n",
      " [0.4]\n",
      " [0.2]\n",
      " [0.2]\n",
      " [0.2]\n",
      " [0.2]\n",
      " [0.4]\n",
      " [0.1]\n",
      " [0.2]\n",
      " [0.2]\n",
      " [0.2]\n",
      " [0.2]\n",
      " [0.1]\n",
      " [0.2]\n",
      " [0.2]\n",
      " [0.3]\n",
      " [0.3]\n",
      " [0.2]\n",
      " [0.6]\n",
      " [0.4]\n",
      " [0.3]\n",
      " [0.2]\n",
      " [0.2]\n",
      " [0.2]\n",
      " [0.2]\n",
      " [1.4]\n",
      " [1.5]\n",
      " [1.5]\n",
      " [1.3]\n",
      " [1.5]\n",
      " [1.3]\n",
      " [1.6]\n",
      " [1. ]\n",
      " [1.3]\n",
      " [1.4]\n",
      " [1. ]\n",
      " [1.5]\n",
      " [1. ]\n",
      " [1.4]\n",
      " [1.3]\n",
      " [1.4]\n",
      " [1.5]\n",
      " [1. ]\n",
      " [1.5]\n",
      " [1.1]\n",
      " [1.8]\n",
      " [1.3]\n",
      " [1.5]\n",
      " [1.2]\n",
      " [1.3]\n",
      " [1.4]\n",
      " [1.4]\n",
      " [1.7]\n",
      " [1.5]\n",
      " [1. ]\n",
      " [1.1]\n",
      " [1. ]\n",
      " [1.2]\n",
      " [1.6]\n",
      " [1.5]\n",
      " [1.6]\n",
      " [1.5]\n",
      " [1.3]\n",
      " [1.3]\n",
      " [1.3]\n",
      " [1.2]\n",
      " [1.4]\n",
      " [1.2]\n",
      " [1. ]\n",
      " [1.3]\n",
      " [1.2]\n",
      " [1.3]\n",
      " [1.3]\n",
      " [1.1]\n",
      " [1.3]\n",
      " [2.5]\n",
      " [1.9]\n",
      " [2.1]\n",
      " [1.8]\n",
      " [2.2]\n",
      " [2.1]\n",
      " [1.7]\n",
      " [1.8]\n",
      " [1.8]\n",
      " [2.5]\n",
      " [2. ]\n",
      " [1.9]\n",
      " [2.1]\n",
      " [2. ]\n",
      " [2.4]\n",
      " [2.3]\n",
      " [1.8]\n",
      " [2.2]\n",
      " [2.3]\n",
      " [1.5]\n",
      " [2.3]\n",
      " [2. ]\n",
      " [2. ]\n",
      " [1.8]\n",
      " [2.1]\n",
      " [1.8]\n",
      " [1.8]\n",
      " [1.8]\n",
      " [2.1]\n",
      " [1.6]\n",
      " [1.9]\n",
      " [2. ]\n",
      " [2.2]\n",
      " [1.5]\n",
      " [1.4]\n",
      " [2.3]\n",
      " [2.4]\n",
      " [1.8]\n",
      " [1.8]\n",
      " [2.1]\n",
      " [2.4]\n",
      " [2.3]\n",
      " [1.9]\n",
      " [2.3]\n",
      " [2.5]\n",
      " [2.3]\n",
      " [1.9]\n",
      " [2. ]\n",
      " [2.3]\n",
      " [1.8]]\n",
      "[0 0 0 0 0 0 0 0 0 0 0 0 0 0 0 0 0 0 0 0 0 0 0 0 0 0 0 0 0 0 0 0 0 0 0 0 0\n",
      " 0 0 0 0 0 0 0 0 0 0 0 0 0 0 0 0 0 0 0 0 0 0 0 0 0 0 0 0 0 0 0 0 0 0 0 0 0\n",
      " 0 0 0 0 0 0 0 0 0 0 0 0 0 0 0 0 0 0 0 0 0 0 0 0 0 0 1 1 1 1 1 1 1 1 1 1 1\n",
      " 1 1 1 1 1 1 1 1 1 1 1 1 1 1 1 1 1 1 1 1 1 1 1 1 1 1 1 1 1 1 1 1 1 1 1 1 1\n",
      " 1 1]\n"
     ]
    }
   ],
   "source": [
    "X=iris['data'][:,3:] #基于花瓣宽度\n",
    "y=(iris['target']==2).astype(int) # (iris['target'] == 2)：这是一个布尔条件，它将目标变量中的每个元素与2进行比较，如果目标值等于2，条件为True；否则，条件为False。 布尔类型的Series转换为整数类型\n",
    "print(type(X),type(y))\n",
    "print(X)\n",
    "print(y)"
   ],
   "metadata": {
    "collapsed": false,
    "ExecuteTime": {
     "end_time": "2023-10-24T04:56:38.057329700Z",
     "start_time": "2023-10-24T04:56:38.026040500Z"
    }
   },
   "id": "67af22241c839514"
  },
  {
   "cell_type": "code",
   "execution_count": 11,
   "outputs": [
    {
     "name": "stdout",
     "output_type": "stream",
     "text": [
      "[[2.5]\n",
      " [1.9]\n",
      " [2.1]\n",
      " [1.8]\n",
      " [2.2]\n",
      " [2.1]\n",
      " [1.7]\n",
      " [1.8]\n",
      " [1.8]\n",
      " [2.5]\n",
      " [2. ]\n",
      " [1.9]\n",
      " [2.1]\n",
      " [2. ]\n",
      " [2.4]\n",
      " [2.3]\n",
      " [1.8]\n",
      " [2.2]\n",
      " [2.3]\n",
      " [1.5]\n",
      " [2.3]\n",
      " [2. ]\n",
      " [2. ]\n",
      " [1.8]\n",
      " [2.1]\n",
      " [1.8]\n",
      " [1.8]\n",
      " [1.8]\n",
      " [2.1]\n",
      " [1.6]\n",
      " [1.9]\n",
      " [2. ]\n",
      " [2.2]\n",
      " [1.5]\n",
      " [1.4]\n",
      " [2.3]\n",
      " [2.4]\n",
      " [1.8]\n",
      " [1.8]\n",
      " [2.1]\n",
      " [2.4]\n",
      " [2.3]\n",
      " [1.9]\n",
      " [2.3]\n",
      " [2.5]\n",
      " [2.3]\n",
      " [1.9]\n",
      " [2. ]\n",
      " [2.3]\n",
      " [1.8]]\n",
      "[1 1 1 1 1 1 1 1 1 1 1 1 1 1 1 1 1 1 1 1 1 1 1 1 1 1 1 1 1 1 1 1 1 1 1 1 1\n",
      " 1 1 1 1 1 1 1 1 1 1 1 1 1]\n"
     ]
    }
   ],
   "source": [
    "print(X[y==1])\n",
    "print(y[y==1])"
   ],
   "metadata": {
    "collapsed": false,
    "ExecuteTime": {
     "end_time": "2023-10-24T04:56:40.162036500Z",
     "start_time": "2023-10-24T04:56:40.130789900Z"
    }
   },
   "id": "78a6b9371aa4ce3b"
  },
  {
   "cell_type": "code",
   "execution_count": 4,
   "outputs": [
    {
     "name": "stdout",
     "output_type": "stream",
     "text": [
      "[[9.99250016e-01 7.49984089e-04]\n",
      " [9.99240201e-01 7.59799387e-04]\n",
      " [9.99230257e-01 7.69743043e-04]\n",
      " ...\n",
      " [3.08374822e-03 9.96916252e-01]\n",
      " [3.04400296e-03 9.96955997e-01]\n",
      " [3.00476842e-03 9.96995232e-01]]\n",
      "[[-7.50265467e-04 -7.19545857e+00]\n",
      " [-7.60088181e-04 -7.18245612e+00]\n",
      " [-7.70039448e-04 -7.16945381e+00]\n",
      " ...\n",
      " [-5.78160947e+00 -3.08851276e-03]\n",
      " [-5.79458187e+00 -3.04864536e-03]\n",
      " [-5.80755478e+00 -3.00929180e-03]]\n"
     ]
    }
   ],
   "source": [
    "log_reg=LogisticRegression()\n",
    "log_reg.fit(X,y)\n",
    "X_new=np.linspace(0,3,1000).reshape(-1,1)\n",
    "y_proba=log_reg.predict_proba(X_new)\n",
    "y_log_proba=log_reg.predict_log_proba(X_new)\n",
    "print(y_proba)\n",
    "print(y_log_proba)"
   ],
   "metadata": {
    "collapsed": false,
    "ExecuteTime": {
     "end_time": "2023-10-24T04:53:37.910452200Z",
     "start_time": "2023-10-24T04:53:37.847943100Z"
    }
   },
   "id": "2e80ff9babb41956"
  },
  {
   "cell_type": "code",
   "execution_count": 12,
   "outputs": [
    {
     "data": {
      "text/plain": "<Figure size 640x480 with 1 Axes>",
      "image/png": "[encoded data removed]"
     },
     "metadata": {},
     "output_type": "display_data"
    }
   ],
   "source": [
    "plt.plot(X_new,y_proba[:,1],'g-.',label='Iris virginica')\n",
    "plt.plot(X_new,y_proba[:,0],'b--',label='not Iris virginca')\n",
    "plt.plot(X[y==1],y[y==1],'ys',label='Iris virginca')\n",
    "plt.plot(X[y==0],y[y==0],'r^',label='not Iris virginca')\n",
    "plt.title('Virginia iris flower likelihood in relation to petal width')\n",
    "plt.xlabel('petal length')\n",
    "plt.ylabel('probability')\n",
    "plt.legend()\n",
    "plt.show()"
   ],
   "metadata": {
    "collapsed": false,
    "ExecuteTime": {
     "end_time": "2023-10-24T04:59:15.112077900Z",
     "start_time": "2023-10-24T04:59:14.815785700Z"
    }
   },
   "id": "9c62923bf8b3dd24"
  },
  {
   "cell_type": "code",
   "execution_count": 38,
   "outputs": [],
   "source": [
    "X_=iris['data'][:,2:]\n",
    "y_=(iris['target']==2).astype(int)"
   ],
   "metadata": {
    "collapsed": false,
    "ExecuteTime": {
     "end_time": "2023-10-24T05:41:15.497688400Z",
     "start_time": "2023-10-24T05:41:15.485343900Z"
    }
   },
   "id": "a3692ff261f847a"
  },
  {
   "cell_type": "code",
   "execution_count": 39,
   "outputs": [
    {
     "name": "stdout",
     "output_type": "stream",
     "text": [
      "[[2.77762524 2.38552012]] [-17.5481106]\n"
     ]
    }
   ],
   "source": [
    "log_reg_=LogisticRegression()\n",
    "log_reg_.fit(X_,y_)\n",
    "petal_length=np.linspace(1,7,1000)\n",
    "print(log_reg_.coef_,log_reg_.intercept_)"
   ],
   "metadata": {
    "collapsed": false,
    "ExecuteTime": {
     "end_time": "2023-10-24T05:41:15.925230100Z",
     "start_time": "2023-10-24T05:41:15.903938100Z"
    }
   },
   "id": "57a3dd43b958adeb"
  },
  {
   "cell_type": "code",
   "execution_count": 40,
   "outputs": [
    {
     "name": "stdout",
     "output_type": "stream",
     "text": [
      "[ 6.19172533e+00  6.18473213e+00  6.17773892e+00  6.17074572e+00\n",
      "  6.16375251e+00  6.15675930e+00  6.14976610e+00  6.14277289e+00\n",
      "  6.13577968e+00  6.12878648e+00  6.12179327e+00  6.11480007e+00\n",
      "  6.10780686e+00  6.10081365e+00  6.09382045e+00  6.08682724e+00\n",
      "  6.07983404e+00  6.07284083e+00  6.06584762e+00  6.05885442e+00\n",
      "  6.05186121e+00  6.04486801e+00  6.03787480e+00  6.03088159e+00\n",
      "  6.02388839e+00  6.01689518e+00  6.00990197e+00  6.00290877e+00\n",
      "  5.99591556e+00  5.98892236e+00  5.98192915e+00  5.97493594e+00\n",
      "  5.96794274e+00  5.96094953e+00  5.95395633e+00  5.94696312e+00\n",
      "  5.93996991e+00  5.93297671e+00  5.92598350e+00  5.91899030e+00\n",
      "  5.91199709e+00  5.90500388e+00  5.89801068e+00  5.89101747e+00\n",
      "  5.88402427e+00  5.87703106e+00  5.87003785e+00  5.86304465e+00\n",
      "  5.85605144e+00  5.84905823e+00  5.84206503e+00  5.83507182e+00\n",
      "  5.82807862e+00  5.82108541e+00  5.81409220e+00  5.80709900e+00\n",
      "  5.80010579e+00  5.79311259e+00  5.78611938e+00  5.77912617e+00\n",
      "  5.77213297e+00  5.76513976e+00  5.75814656e+00  5.75115335e+00\n",
      "  5.74416014e+00  5.73716694e+00  5.73017373e+00  5.72318052e+00\n",
      "  5.71618732e+00  5.70919411e+00  5.70220091e+00  5.69520770e+00\n",
      "  5.68821449e+00  5.68122129e+00  5.67422808e+00  5.66723488e+00\n",
      "  5.66024167e+00  5.65324846e+00  5.64625526e+00  5.63926205e+00\n",
      "  5.63226885e+00  5.62527564e+00  5.61828243e+00  5.61128923e+00\n",
      "  5.60429602e+00  5.59730282e+00  5.59030961e+00  5.58331640e+00\n",
      "  5.57632320e+00  5.56932999e+00  5.56233678e+00  5.55534358e+00\n",
      "  5.54835037e+00  5.54135717e+00  5.53436396e+00  5.52737075e+00\n",
      "  5.52037755e+00  5.51338434e+00  5.50639114e+00  5.49939793e+00\n",
      "  5.49240472e+00  5.48541152e+00  5.47841831e+00  5.47142511e+00\n",
      "  5.46443190e+00  5.45743869e+00  5.45044549e+00  5.44345228e+00\n",
      "  5.43645907e+00  5.42946587e+00  5.42247266e+00  5.41547946e+00\n",
      "  5.40848625e+00  5.40149304e+00  5.39449984e+00  5.38750663e+00\n",
      "  5.38051343e+00  5.37352022e+00  5.36652701e+00  5.35953381e+00\n",
      "  5.35254060e+00  5.34554740e+00  5.33855419e+00  5.33156098e+00\n",
      "  5.32456778e+00  5.31757457e+00  5.31058137e+00  5.30358816e+00\n",
      "  5.29659495e+00  5.28960175e+00  5.28260854e+00  5.27561533e+00\n",
      "  5.26862213e+00  5.26162892e+00  5.25463572e+00  5.24764251e+00\n",
      "  5.24064930e+00  5.23365610e+00  5.22666289e+00  5.21966969e+00\n",
      "  5.21267648e+00  5.20568327e+00  5.19869007e+00  5.19169686e+00\n",
      "  5.18470366e+00  5.17771045e+00  5.17071724e+00  5.16372404e+00\n",
      "  5.15673083e+00  5.14973762e+00  5.14274442e+00  5.13575121e+00\n",
      "  5.12875801e+00  5.12176480e+00  5.11477159e+00  5.10777839e+00\n",
      "  5.10078518e+00  5.09379198e+00  5.08679877e+00  5.07980556e+00\n",
      "  5.07281236e+00  5.06581915e+00  5.05882595e+00  5.05183274e+00\n",
      "  5.04483953e+00  5.03784633e+00  5.03085312e+00  5.02385992e+00\n",
      "  5.01686671e+00  5.00987350e+00  5.00288030e+00  4.99588709e+00\n",
      "  4.98889388e+00  4.98190068e+00  4.97490747e+00  4.96791427e+00\n",
      "  4.96092106e+00  4.95392785e+00  4.94693465e+00  4.93994144e+00\n",
      "  4.93294824e+00  4.92595503e+00  4.91896182e+00  4.91196862e+00\n",
      "  4.90497541e+00  4.89798221e+00  4.89098900e+00  4.88399579e+00\n",
      "  4.87700259e+00  4.87000938e+00  4.86301617e+00  4.85602297e+00\n",
      "  4.84902976e+00  4.84203656e+00  4.83504335e+00  4.82805014e+00\n",
      "  4.82105694e+00  4.81406373e+00  4.80707053e+00  4.80007732e+00\n",
      "  4.79308411e+00  4.78609091e+00  4.77909770e+00  4.77210450e+00\n",
      "  4.76511129e+00  4.75811808e+00  4.75112488e+00  4.74413167e+00\n",
      "  4.73713847e+00  4.73014526e+00  4.72315205e+00  4.71615885e+00\n",
      "  4.70916564e+00  4.70217243e+00  4.69517923e+00  4.68818602e+00\n",
      "  4.68119282e+00  4.67419961e+00  4.66720640e+00  4.66021320e+00\n",
      "  4.65321999e+00  4.64622679e+00  4.63923358e+00  4.63224037e+00\n",
      "  4.62524717e+00  4.61825396e+00  4.61126076e+00  4.60426755e+00\n",
      "  4.59727434e+00  4.59028114e+00  4.58328793e+00  4.57629472e+00\n",
      "  4.56930152e+00  4.56230831e+00  4.55531511e+00  4.54832190e+00\n",
      "  4.54132869e+00  4.53433549e+00  4.52734228e+00  4.52034908e+00\n",
      "  4.51335587e+00  4.50636266e+00  4.49936946e+00  4.49237625e+00\n",
      "  4.48538305e+00  4.47838984e+00  4.47139663e+00  4.46440343e+00\n",
      "  4.45741022e+00  4.45041702e+00  4.44342381e+00  4.43643060e+00\n",
      "  4.42943740e+00  4.42244419e+00  4.41545098e+00  4.40845778e+00\n",
      "  4.40146457e+00  4.39447137e+00  4.38747816e+00  4.38048495e+00\n",
      "  4.37349175e+00  4.36649854e+00  4.35950534e+00  4.35251213e+00\n",
      "  4.34551892e+00  4.33852572e+00  4.33153251e+00  4.32453931e+00\n",
      "  4.31754610e+00  4.31055289e+00  4.30355969e+00  4.29656648e+00\n",
      "  4.28957327e+00  4.28258007e+00  4.27558686e+00  4.26859366e+00\n",
      "  4.26160045e+00  4.25460724e+00  4.24761404e+00  4.24062083e+00\n",
      "  4.23362763e+00  4.22663442e+00  4.21964121e+00  4.21264801e+00\n",
      "  4.20565480e+00  4.19866160e+00  4.19166839e+00  4.18467518e+00\n",
      "  4.17768198e+00  4.17068877e+00  4.16369557e+00  4.15670236e+00\n",
      "  4.14970915e+00  4.14271595e+00  4.13572274e+00  4.12872953e+00\n",
      "  4.12173633e+00  4.11474312e+00  4.10774992e+00  4.10075671e+00\n",
      "  4.09376350e+00  4.08677030e+00  4.07977709e+00  4.07278389e+00\n",
      "  4.06579068e+00  4.05879747e+00  4.05180427e+00  4.04481106e+00\n",
      "  4.03781786e+00  4.03082465e+00  4.02383144e+00  4.01683824e+00\n",
      "  4.00984503e+00  4.00285182e+00  3.99585862e+00  3.98886541e+00\n",
      "  3.98187221e+00  3.97487900e+00  3.96788579e+00  3.96089259e+00\n",
      "  3.95389938e+00  3.94690618e+00  3.93991297e+00  3.93291976e+00\n",
      "  3.92592656e+00  3.91893335e+00  3.91194015e+00  3.90494694e+00\n",
      "  3.89795373e+00  3.89096053e+00  3.88396732e+00  3.87697412e+00\n",
      "  3.86998091e+00  3.86298770e+00  3.85599450e+00  3.84900129e+00\n",
      "  3.84200808e+00  3.83501488e+00  3.82802167e+00  3.82102847e+00\n",
      "  3.81403526e+00  3.80704205e+00  3.80004885e+00  3.79305564e+00\n",
      "  3.78606244e+00  3.77906923e+00  3.77207602e+00  3.76508282e+00\n",
      "  3.75808961e+00  3.75109641e+00  3.74410320e+00  3.73710999e+00\n",
      "  3.73011679e+00  3.72312358e+00  3.71613037e+00  3.70913717e+00\n",
      "  3.70214396e+00  3.69515076e+00  3.68815755e+00  3.68116434e+00\n",
      "  3.67417114e+00  3.66717793e+00  3.66018473e+00  3.65319152e+00\n",
      "  3.64619831e+00  3.63920511e+00  3.63221190e+00  3.62521870e+00\n",
      "  3.61822549e+00  3.61123228e+00  3.60423908e+00  3.59724587e+00\n",
      "  3.59025267e+00  3.58325946e+00  3.57626625e+00  3.56927305e+00\n",
      "  3.56227984e+00  3.55528663e+00  3.54829343e+00  3.54130022e+00\n",
      "  3.53430702e+00  3.52731381e+00  3.52032060e+00  3.51332740e+00\n",
      "  3.50633419e+00  3.49934099e+00  3.49234778e+00  3.48535457e+00\n",
      "  3.47836137e+00  3.47136816e+00  3.46437496e+00  3.45738175e+00\n",
      "  3.45038854e+00  3.44339534e+00  3.43640213e+00  3.42940892e+00\n",
      "  3.42241572e+00  3.41542251e+00  3.40842931e+00  3.40143610e+00\n",
      "  3.39444289e+00  3.38744969e+00  3.38045648e+00  3.37346328e+00\n",
      "  3.36647007e+00  3.35947686e+00  3.35248366e+00  3.34549045e+00\n",
      "  3.33849725e+00  3.33150404e+00  3.32451083e+00  3.31751763e+00\n",
      "  3.31052442e+00  3.30353122e+00  3.29653801e+00  3.28954480e+00\n",
      "  3.28255160e+00  3.27555839e+00  3.26856518e+00  3.26157198e+00\n",
      "  3.25457877e+00  3.24758557e+00  3.24059236e+00  3.23359915e+00\n",
      "  3.22660595e+00  3.21961274e+00  3.21261954e+00  3.20562633e+00\n",
      "  3.19863312e+00  3.19163992e+00  3.18464671e+00  3.17765351e+00\n",
      "  3.17066030e+00  3.16366709e+00  3.15667389e+00  3.14968068e+00\n",
      "  3.14268747e+00  3.13569427e+00  3.12870106e+00  3.12170786e+00\n",
      "  3.11471465e+00  3.10772144e+00  3.10072824e+00  3.09373503e+00\n",
      "  3.08674183e+00  3.07974862e+00  3.07275541e+00  3.06576221e+00\n",
      "  3.05876900e+00  3.05177580e+00  3.04478259e+00  3.03778938e+00\n",
      "  3.03079618e+00  3.02380297e+00  3.01680977e+00  3.00981656e+00\n",
      "  3.00282335e+00  2.99583015e+00  2.98883694e+00  2.98184373e+00\n",
      "  2.97485053e+00  2.96785732e+00  2.96086412e+00  2.95387091e+00\n",
      "  2.94687770e+00  2.93988450e+00  2.93289129e+00  2.92589809e+00\n",
      "  2.91890488e+00  2.91191167e+00  2.90491847e+00  2.89792526e+00\n",
      "  2.89093206e+00  2.88393885e+00  2.87694564e+00  2.86995244e+00\n",
      "  2.86295923e+00  2.85596602e+00  2.84897282e+00  2.84197961e+00\n",
      "  2.83498641e+00  2.82799320e+00  2.82099999e+00  2.81400679e+00\n",
      "  2.80701358e+00  2.80002038e+00  2.79302717e+00  2.78603396e+00\n",
      "  2.77904076e+00  2.77204755e+00  2.76505435e+00  2.75806114e+00\n",
      "  2.75106793e+00  2.74407473e+00  2.73708152e+00  2.73008832e+00\n",
      "  2.72309511e+00  2.71610190e+00  2.70910870e+00  2.70211549e+00\n",
      "  2.69512228e+00  2.68812908e+00  2.68113587e+00  2.67414267e+00\n",
      "  2.66714946e+00  2.66015625e+00  2.65316305e+00  2.64616984e+00\n",
      "  2.63917664e+00  2.63218343e+00  2.62519022e+00  2.61819702e+00\n",
      "  2.61120381e+00  2.60421061e+00  2.59721740e+00  2.59022419e+00\n",
      "  2.58323099e+00  2.57623778e+00  2.56924457e+00  2.56225137e+00\n",
      "  2.55525816e+00  2.54826496e+00  2.54127175e+00  2.53427854e+00\n",
      "  2.52728534e+00  2.52029213e+00  2.51329893e+00  2.50630572e+00\n",
      "  2.49931251e+00  2.49231931e+00  2.48532610e+00  2.47833290e+00\n",
      "  2.47133969e+00  2.46434648e+00  2.45735328e+00  2.45036007e+00\n",
      "  2.44336687e+00  2.43637366e+00  2.42938045e+00  2.42238725e+00\n",
      "  2.41539404e+00  2.40840083e+00  2.40140763e+00  2.39441442e+00\n",
      "  2.38742122e+00  2.38042801e+00  2.37343480e+00  2.36644160e+00\n",
      "  2.35944839e+00  2.35245519e+00  2.34546198e+00  2.33846877e+00\n",
      "  2.33147557e+00  2.32448236e+00  2.31748916e+00  2.31049595e+00\n",
      "  2.30350274e+00  2.29650954e+00  2.28951633e+00  2.28252312e+00\n",
      "  2.27552992e+00  2.26853671e+00  2.26154351e+00  2.25455030e+00\n",
      "  2.24755709e+00  2.24056389e+00  2.23357068e+00  2.22657748e+00\n",
      "  2.21958427e+00  2.21259106e+00  2.20559786e+00  2.19860465e+00\n",
      "  2.19161145e+00  2.18461824e+00  2.17762503e+00  2.17063183e+00\n",
      "  2.16363862e+00  2.15664542e+00  2.14965221e+00  2.14265900e+00\n",
      "  2.13566580e+00  2.12867259e+00  2.12167938e+00  2.11468618e+00\n",
      "  2.10769297e+00  2.10069977e+00  2.09370656e+00  2.08671335e+00\n",
      "  2.07972015e+00  2.07272694e+00  2.06573374e+00  2.05874053e+00\n",
      "  2.05174732e+00  2.04475412e+00  2.03776091e+00  2.03076771e+00\n",
      "  2.02377450e+00  2.01678129e+00  2.00978809e+00  2.00279488e+00\n",
      "  1.99580167e+00  1.98880847e+00  1.98181526e+00  1.97482206e+00\n",
      "  1.96782885e+00  1.96083564e+00  1.95384244e+00  1.94684923e+00\n",
      "  1.93985603e+00  1.93286282e+00  1.92586961e+00  1.91887641e+00\n",
      "  1.91188320e+00  1.90489000e+00  1.89789679e+00  1.89090358e+00\n",
      "  1.88391038e+00  1.87691717e+00  1.86992397e+00  1.86293076e+00\n",
      "  1.85593755e+00  1.84894435e+00  1.84195114e+00  1.83495793e+00\n",
      "  1.82796473e+00  1.82097152e+00  1.81397832e+00  1.80698511e+00\n",
      "  1.79999190e+00  1.79299870e+00  1.78600549e+00  1.77901229e+00\n",
      "  1.77201908e+00  1.76502587e+00  1.75803267e+00  1.75103946e+00\n",
      "  1.74404626e+00  1.73705305e+00  1.73005984e+00  1.72306664e+00\n",
      "  1.71607343e+00  1.70908022e+00  1.70208702e+00  1.69509381e+00\n",
      "  1.68810061e+00  1.68110740e+00  1.67411419e+00  1.66712099e+00\n",
      "  1.66012778e+00  1.65313458e+00  1.64614137e+00  1.63914816e+00\n",
      "  1.63215496e+00  1.62516175e+00  1.61816855e+00  1.61117534e+00\n",
      "  1.60418213e+00  1.59718893e+00  1.59019572e+00  1.58320252e+00\n",
      "  1.57620931e+00  1.56921610e+00  1.56222290e+00  1.55522969e+00\n",
      "  1.54823648e+00  1.54124328e+00  1.53425007e+00  1.52725687e+00\n",
      "  1.52026366e+00  1.51327045e+00  1.50627725e+00  1.49928404e+00\n",
      "  1.49229084e+00  1.48529763e+00  1.47830442e+00  1.47131122e+00\n",
      "  1.46431801e+00  1.45732481e+00  1.45033160e+00  1.44333839e+00\n",
      "  1.43634519e+00  1.42935198e+00  1.42235877e+00  1.41536557e+00\n",
      "  1.40837236e+00  1.40137916e+00  1.39438595e+00  1.38739274e+00\n",
      "  1.38039954e+00  1.37340633e+00  1.36641313e+00  1.35941992e+00\n",
      "  1.35242671e+00  1.34543351e+00  1.33844030e+00  1.33144710e+00\n",
      "  1.32445389e+00  1.31746068e+00  1.31046748e+00  1.30347427e+00\n",
      "  1.29648107e+00  1.28948786e+00  1.28249465e+00  1.27550145e+00\n",
      "  1.26850824e+00  1.26151503e+00  1.25452183e+00  1.24752862e+00\n",
      "  1.24053542e+00  1.23354221e+00  1.22654900e+00  1.21955580e+00\n",
      "  1.21256259e+00  1.20556939e+00  1.19857618e+00  1.19158297e+00\n",
      "  1.18458977e+00  1.17759656e+00  1.17060336e+00  1.16361015e+00\n",
      "  1.15661694e+00  1.14962374e+00  1.14263053e+00  1.13563732e+00\n",
      "  1.12864412e+00  1.12165091e+00  1.11465771e+00  1.10766450e+00\n",
      "  1.10067129e+00  1.09367809e+00  1.08668488e+00  1.07969168e+00\n",
      "  1.07269847e+00  1.06570526e+00  1.05871206e+00  1.05171885e+00\n",
      "  1.04472565e+00  1.03773244e+00  1.03073923e+00  1.02374603e+00\n",
      "  1.01675282e+00  1.00975962e+00  1.00276641e+00  9.95773203e-01\n",
      "  9.88779997e-01  9.81786791e-01  9.74793585e-01  9.67800379e-01\n",
      "  9.60807172e-01  9.53813966e-01  9.46820760e-01  9.39827554e-01\n",
      "  9.32834348e-01  9.25841142e-01  9.18847936e-01  9.11854730e-01\n",
      "  9.04861524e-01  8.97868318e-01  8.90875111e-01  8.83881905e-01\n",
      "  8.76888699e-01  8.69895493e-01  8.62902287e-01  8.55909081e-01\n",
      "  8.48915875e-01  8.41922669e-01  8.34929463e-01  8.27936257e-01\n",
      "  8.20943051e-01  8.13949844e-01  8.06956638e-01  7.99963432e-01\n",
      "  7.92970226e-01  7.85977020e-01  7.78983814e-01  7.71990608e-01\n",
      "  7.64997402e-01  7.58004196e-01  7.51010990e-01  7.44017783e-01\n",
      "  7.37024577e-01  7.30031371e-01  7.23038165e-01  7.16044959e-01\n",
      "  7.09051753e-01  7.02058547e-01  6.95065341e-01  6.88072135e-01\n",
      "  6.81078929e-01  6.74085722e-01  6.67092516e-01  6.60099310e-01\n",
      "  6.53106104e-01  6.46112898e-01  6.39119692e-01  6.32126486e-01\n",
      "  6.25133280e-01  6.18140074e-01  6.11146868e-01  6.04153661e-01\n",
      "  5.97160455e-01  5.90167249e-01  5.83174043e-01  5.76180837e-01\n",
      "  5.69187631e-01  5.62194425e-01  5.55201219e-01  5.48208013e-01\n",
      "  5.41214807e-01  5.34221600e-01  5.27228394e-01  5.20235188e-01\n",
      "  5.13241982e-01  5.06248776e-01  4.99255570e-01  4.92262364e-01\n",
      "  4.85269158e-01  4.78275952e-01  4.71282746e-01  4.64289540e-01\n",
      "  4.57296333e-01  4.50303127e-01  4.43309921e-01  4.36316715e-01\n",
      "  4.29323509e-01  4.22330303e-01  4.15337097e-01  4.08343891e-01\n",
      "  4.01350685e-01  3.94357479e-01  3.87364272e-01  3.80371066e-01\n",
      "  3.73377860e-01  3.66384654e-01  3.59391448e-01  3.52398242e-01\n",
      "  3.45405036e-01  3.38411830e-01  3.31418624e-01  3.24425418e-01\n",
      "  3.17432211e-01  3.10439005e-01  3.03445799e-01  2.96452593e-01\n",
      "  2.89459387e-01  2.82466181e-01  2.75472975e-01  2.68479769e-01\n",
      "  2.61486563e-01  2.54493357e-01  2.47500150e-01  2.40506944e-01\n",
      "  2.33513738e-01  2.26520532e-01  2.19527326e-01  2.12534120e-01\n",
      "  2.05540914e-01  1.98547708e-01  1.91554502e-01  1.84561296e-01\n",
      "  1.77568090e-01  1.70574883e-01  1.63581677e-01  1.56588471e-01\n",
      "  1.49595265e-01  1.42602059e-01  1.35608853e-01  1.28615647e-01\n",
      "  1.21622441e-01  1.14629235e-01  1.07636029e-01  1.00642822e-01\n",
      "  9.36496163e-02  8.66564102e-02  7.96632042e-02  7.26699981e-02\n",
      "  6.56767920e-02  5.86835859e-02  5.16903798e-02  4.46971737e-02\n",
      "  3.77039676e-02  3.07107615e-02  2.37175554e-02  1.67243493e-02\n",
      "  9.73114317e-03  2.73793708e-03 -4.25526902e-03 -1.12484751e-02\n",
      " -1.82416812e-02 -2.52348873e-02 -3.22280934e-02 -3.92212995e-02\n",
      " -4.62145056e-02 -5.32077117e-02 -6.02009178e-02 -6.71941239e-02\n",
      " -7.41873300e-02 -8.11805361e-02 -8.81737422e-02 -9.51669483e-02\n",
      " -1.02160154e-01 -1.09153360e-01 -1.16146567e-01 -1.23139773e-01\n",
      " -1.30132979e-01 -1.37126185e-01 -1.44119391e-01 -1.51112597e-01\n",
      " -1.58105803e-01 -1.65099009e-01 -1.72092215e-01 -1.79085421e-01\n",
      " -1.86078628e-01 -1.93071834e-01 -2.00065040e-01 -2.07058246e-01\n",
      " -2.14051452e-01 -2.21044658e-01 -2.28037864e-01 -2.35031070e-01\n",
      " -2.42024276e-01 -2.49017482e-01 -2.56010689e-01 -2.63003895e-01\n",
      " -2.69997101e-01 -2.76990307e-01 -2.83983513e-01 -2.90976719e-01\n",
      " -2.97969925e-01 -3.04963131e-01 -3.11956337e-01 -3.18949543e-01\n",
      " -3.25942750e-01 -3.32935956e-01 -3.39929162e-01 -3.46922368e-01\n",
      " -3.53915574e-01 -3.60908780e-01 -3.67901986e-01 -3.74895192e-01\n",
      " -3.81888398e-01 -3.88881604e-01 -3.95874810e-01 -4.02868017e-01\n",
      " -4.09861223e-01 -4.16854429e-01 -4.23847635e-01 -4.30840841e-01\n",
      " -4.37834047e-01 -4.44827253e-01 -4.51820459e-01 -4.58813665e-01\n",
      " -4.65806871e-01 -4.72800078e-01 -4.79793284e-01 -4.86786490e-01\n",
      " -4.93779696e-01 -5.00772902e-01 -5.07766108e-01 -5.14759314e-01\n",
      " -5.21752520e-01 -5.28745726e-01 -5.35738932e-01 -5.42732139e-01\n",
      " -5.49725345e-01 -5.56718551e-01 -5.63711757e-01 -5.70704963e-01\n",
      " -5.77698169e-01 -5.84691375e-01 -5.91684581e-01 -5.98677787e-01\n",
      " -6.05670993e-01 -6.12664200e-01 -6.19657406e-01 -6.26650612e-01\n",
      " -6.33643818e-01 -6.40637024e-01 -6.47630230e-01 -6.54623436e-01\n",
      " -6.61616642e-01 -6.68609848e-01 -6.75603054e-01 -6.82596260e-01\n",
      " -6.89589467e-01 -6.96582673e-01 -7.03575879e-01 -7.10569085e-01\n",
      " -7.17562291e-01 -7.24555497e-01 -7.31548703e-01 -7.38541909e-01\n",
      " -7.45535115e-01 -7.52528321e-01 -7.59521528e-01 -7.66514734e-01\n",
      " -7.73507940e-01 -7.80501146e-01 -7.87494352e-01 -7.94487558e-01]\n"
     ]
    }
   ],
   "source": [
    "petal_width=(-petal_length*log_reg_.coef_[0,0]-log_reg_.intercept_)/log_reg_.coef_[0,1]\n",
    "print(petal_width)"
   ],
   "metadata": {
    "collapsed": false,
    "ExecuteTime": {
     "end_time": "2023-10-24T05:41:16.359659300Z",
     "start_time": "2023-10-24T05:41:16.338974400Z"
    }
   },
   "id": "dc453fe0a9c29db9"
  },
  {
   "cell_type": "code",
   "execution_count": 42,
   "outputs": [
    {
     "data": {
      "text/plain": "<Figure size 640x480 with 1 Axes>",
      "image/png": "[encoded data removed]"
     },
     "metadata": {},
     "output_type": "display_data"
    }
   ],
   "source": [
    "X_class0=X_[y_==0]\n",
    "X_class1=X_[y_==1]\n",
    "plt.plot(X_class1[:,0],X_class1[:,1],'ys',label='Iris virginca') # 画出维吉尼亚鸢尾花的散点图\n",
    "plt.plot(X_class0[:,0],X_class0[:,1],'r^',label='not Iris virginca') # 画出非维吉尼亚鸢尾花的散点图\n",
    "plt.plot(petal_length,petal_width,'b--',label='dividing line') # 画出类别分割线\n",
    "plt.xlabel('petal length /cm')\n",
    "plt.ylabel('petal width /cm')\n",
    "plt.legend()\n",
    "plt.show()"
   ],
   "metadata": {
    "collapsed": false,
    "ExecuteTime": {
     "end_time": "2023-10-24T05:43:57.169427800Z",
     "start_time": "2023-10-24T05:43:56.983816Z"
    }
   },
   "id": "3826ac7718ac4801"
  },
  {
   "cell_type": "code",
   "execution_count": 66,
   "outputs": [
    {
     "name": "stdout",
     "output_type": "stream",
     "text": [
      "[0 0 0 0 0 0 0 0 0 0 0 0 0 0 0 0 0 0 0 0 0 0 0 0 0 0 0 0 0 0 0 0 0 0 0 0 0\n",
      " 0 0 0 0 0 0 0 0 0 0 0 0 0 1 1 1 1 1 1 1 1 1 1 1 1 1 1 1 1 1 1 1 1 1 1 1 1\n",
      " 1 1 1 1 1 1 1 1 1 1 1 1 1 1 1 1 1 1 1 1 1 1 1 1 1 1 2 2 2 2 2 2 2 2 2 2 2\n",
      " 2 2 2 2 2 2 2 2 2 2 2 2 2 2 2 2 2 2 2 2 2 2 2 2 2 2 2 2 2 2 2 2 2 2 2 2 2\n",
      " 2 2]\n"
     ]
    }
   ],
   "source": [
    "X=iris['data'][:,(2,3)]\n",
    "y=iris['target']"
   ],
   "metadata": {
    "collapsed": false,
    "ExecuteTime": {
     "end_time": "2023-10-24T14:33:43.610915800Z",
     "start_time": "2023-10-24T14:33:43.590538600Z"
    }
   },
   "id": "d03313a65c57e6f"
  },
  {
   "cell_type": "code",
   "execution_count": 71,
   "outputs": [
    {
     "name": "stdout",
     "output_type": "stream",
     "text": [
      "[[-4.58614563 -2.24129385]\n",
      " [ 0.16068263 -2.15860167]\n",
      " [ 4.425463    4.39989552]] [ 18.87514796   6.3844344  -25.25958236]\n",
      "[[6.38014896e-07 5.74929995e-02 9.42506362e-01]]\n",
      "[[6.38014896e-07 5.74929995e-02 9.42506362e-01]]\n"
     ]
    }
   ],
   "source": [
    "softmax_reg=LogisticRegression(multi_class='multinomial',C=10)\n",
    "softmax_reg.fit(X,y)\n",
    "print(softmax_reg.coef_,softmax_reg.intercept_)\n",
    "input_data=np.array([[5,2]])\n",
    "print(softmax_reg.predict_proba(input_data))\n",
    "linear_combination=input_data.dot(softmax_reg.coef_.T)+softmax_reg.intercept_\n",
    "probabilities=np.exp(linear_combination)/np.sum(np.exp(linear_combination),axis=1,keepdims=True)\n",
    "print(probabilities)"
   ],
   "metadata": {
    "collapsed": false,
    "ExecuteTime": {
     "end_time": "2023-10-24T15:05:58.434628600Z",
     "start_time": "2023-10-24T15:05:58.404736400Z"
    }
   },
   "id": "4eb7c492b2b7455b"
  },
  {
   "cell_type": "code",
   "execution_count": 68,
   "outputs": [
    {
     "data": {
      "text/plain": "<Figure size 640x480 with 1 Axes>",
      "image/png": "[encoded data removed]"
     },
     "metadata": {},
     "output_type": "display_data"
    }
   ],
   "source": [
    "X_class0=X[y==0]\n",
    "X_class1=X[y==1]\n",
    "X_class2=X[y==2]\n",
    "plt.plot(X_class0[:,0],X_class0[:,1],'ys',label='Iris-Setosa') # 画出鸢尾花的散点图\n",
    "plt.plot(X_class1[:,0],X_class1[:,1],'r^',label='Iris-Versicolour') # 画出变色鸢尾花的散点图\n",
    "plt.plot(X_class2[:,0],X_class2[:,1],'go',label='Iris-Virginica') # 画出维吉尼亚鸢尾花的散点图\n",
    "# plt.plot(petal_length,petal_width,'b--',label='dividing line') # 画出类别分割线\n",
    "plt.xlabel('petal length /cm')\n",
    "plt.ylabel('petal width /cm')\n",
    "plt.legend()\n",
    "plt.show()"
   ],
   "metadata": {
    "collapsed": false,
    "ExecuteTime": {
     "end_time": "2023-10-24T14:33:44.866838300Z",
     "start_time": "2023-10-24T14:33:44.665901200Z"
    }
   },
   "id": "4221e2d16e48df87"
  }
 ],
 "metadata": {
  "kernelspec": {
   "display_name": "Python 3",
   "language": "python",
   "name": "python3"
  },
  "language_info": {
   "codemirror_mode": {
    "name": "ipython",
    "version": 2
   },
   "file_extension": ".py",
   "mimetype": "text/x-python",
   "name": "python",
   "nbconvert_exporter": "python",
   "pygments_lexer": "ipython2",
   "version": "2.7.6"
  }
 },
 "nbformat": 4,
 "nbformat_minor": 5
}
