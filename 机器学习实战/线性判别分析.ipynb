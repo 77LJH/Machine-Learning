{
 "cells": [
  {
   "cell_type": "code",
   "execution_count": 1,
   "id": "initial_id",
   "metadata": {
    "collapsed": true,
    "ExecuteTime": {
     "end_time": "2023-10-24T16:34:00.239439500Z",
     "start_time": "2023-10-24T16:34:00.130463600Z"
    }
   },
   "outputs": [
    {
     "name": "stdout",
     "output_type": "stream",
     "text": [
      "[[1.33333333 0.33333333]] [[-0.66666667 -0.66666667]]\n",
      "[[-0.33333333 -0.33333333]\n",
      " [ 0.66666667 -0.33333333]\n",
      " [-0.33333333  0.66666667]]\n",
      "[[-0.33333333  0.66666667]\n",
      " [ 0.66666667 -0.33333333]\n",
      " [-0.33333333 -0.33333333]]\n"
     ]
    }
   ],
   "source": [
    "import numpy as np\n",
    "\n",
    "X1=np.array([[1,0],[2,0],[1,1]])\n",
    "X0=np.array([[-1,0],[0,-1],[-1,-1]])\n",
    "u1=np.average(X1,axis=0).reshape(1,-1)\n",
    "u0=np.average(X0,axis=0).reshape(1,-1)\n",
    "print(u1,u0)\n",
    "print(X1-u1)\n",
    "print(X0-u0)"
   ]
  },
  {
   "cell_type": "code",
   "execution_count": 2,
   "outputs": [
    {
     "name": "stdout",
     "output_type": "stream",
     "text": [
      "[[ 0.66666667 -0.33333333]\n",
      " [-0.33333333  0.66666667]]\n",
      "[[ 0.66666667 -0.33333333]\n",
      " [-0.33333333  0.66666667]]\n",
      "[[ 1.33333333 -0.66666667]\n",
      " [-0.66666667  1.33333333]]\n"
     ]
    }
   ],
   "source": [
    "S1=np.dot((X1-u1).T,(X1-u1))\n",
    "S0=np.dot((X0-u0).T,(X0-u0))\n",
    "Sw=S0+S1\n",
    "print(S1)\n",
    "print(S0)\n",
    "print(Sw)"
   ],
   "metadata": {
    "collapsed": false,
    "ExecuteTime": {
     "end_time": "2023-10-24T16:34:01.373520300Z",
     "start_time": "2023-10-24T16:34:01.337255800Z"
    }
   },
   "id": "38ba0f8cbfb554d7"
  },
  {
   "cell_type": "code",
   "execution_count": 3,
   "outputs": [
    {
     "name": "stdout",
     "output_type": "stream",
     "text": [
      "[[1.  0.5]\n",
      " [0.5 1. ]]\n",
      "[[2.5]\n",
      " [2. ]]\n"
     ]
    }
   ],
   "source": [
    "from numpy.linalg import LinAlgError\n",
    "\n",
    "try:\n",
    "    Sw_inv=np.linalg.inv(Sw)\n",
    "except LinAlgError:\n",
    "    print('Sw does not have an invertible matrix and has been replaced by a pseudo-invertible matrix.')\n",
    "    Sw_inv=np.linalg.pinv(Sw)\n",
    "    \n",
    "print(Sw_inv)\n",
    "w=Sw_inv.dot((u1-u0).reshape(-1,1))\n",
    "print(w)"
   ],
   "metadata": {
    "collapsed": false,
    "ExecuteTime": {
     "end_time": "2023-10-24T16:34:02.056719600Z",
     "start_time": "2023-10-24T16:34:02.006658200Z"
    }
   },
   "id": "fa64070da9105579"
  },
  {
   "cell_type": "code",
   "execution_count": 4,
   "outputs": [
    {
     "name": "stdout",
     "output_type": "stream",
     "text": [
      "[[4.]] [[-3.]] [[0.5]]\n"
     ]
    }
   ],
   "source": [
    "u1_w_d=u1.dot(w)\n",
    "u0_w_d=u0.dot(w)\n",
    "b=(u1_w_d+u0_w_d)/2\n",
    "print(u1_w_d,u0_w_d,b)"
   ],
   "metadata": {
    "collapsed": false,
    "ExecuteTime": {
     "end_time": "2023-10-24T16:34:02.552180600Z",
     "start_time": "2023-10-24T16:34:02.532918600Z"
    }
   },
   "id": "c9695dbc67aacb4e"
  },
  {
   "cell_type": "code",
   "execution_count": 16,
   "outputs": [
    {
     "name": "stdout",
     "output_type": "stream",
     "text": [
      "[[ True]\n",
      " [ True]\n",
      " [False]]\n"
     ]
    }
   ],
   "source": [
    "x=np.array([[1,-1],[1,2],[-1,-2]])\n",
    "print(x.dot(w)>b)"
   ],
   "metadata": {
    "collapsed": false,
    "ExecuteTime": {
     "end_time": "2023-10-24T16:34:12.152610400Z",
     "start_time": "2023-10-24T16:34:12.132557100Z"
    }
   },
   "id": "d991cd274a77aad1"
  },
  {
   "cell_type": "code",
   "execution_count": 5,
   "outputs": [],
   "source": [],
   "metadata": {
    "collapsed": false,
    "ExecuteTime": {
     "end_time": "2023-10-24T16:34:03.610230200Z",
     "start_time": "2023-10-24T16:34:03.578192800Z"
    }
   },
   "id": "959169b772916734"
  }
 ],
 "metadata": {
  "kernelspec": {
   "display_name": "Python 3",
   "language": "python",
   "name": "python3"
  },
  "language_info": {
   "codemirror_mode": {
    "name": "ipython",
    "version": 2
   },
   "file_extension": ".py",
   "mimetype": "text/x-python",
   "name": "python",
   "nbconvert_exporter": "python",
   "pygments_lexer": "ipython2",
   "version": "2.7.6"
  }
 },
 "nbformat": 4,
 "nbformat_minor": 5
}
