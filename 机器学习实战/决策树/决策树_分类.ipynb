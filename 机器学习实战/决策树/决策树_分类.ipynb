{
 "cells": [
  {
   "cell_type": "code",
   "execution_count": 1,
   "id": "initial_id",
   "metadata": {
    "collapsed": true,
    "ExecuteTime": {
     "end_time": "2023-10-26T05:30:32.119610600Z",
     "start_time": "2023-10-26T05:30:31.638801500Z"
    }
   },
   "outputs": [],
   "source": [
    "import pandas as pd\n",
    "import pylab as p\n",
    "\n",
    "from node import Node\n",
    "import numpy as np\n",
    "from collections import Counter"
   ]
  },
  {
   "cell_type": "markdown",
   "source": [
    "## 处理得到训练样本集和属性集"
   ],
   "metadata": {
    "collapsed": false
   },
   "id": "e5b22793859a03ff"
  },
  {
   "cell_type": "code",
   "execution_count": 18,
   "outputs": [
    {
     "name": "stdout",
     "output_type": "stream",
     "text": [
      "<class 'numpy.ndarray'> <class 'numpy.ndarray'>\n",
      "['色泽' '根蒂' '敲声' '纹理' '脐部' '触感']\n",
      "[['青绿' '蜷缩' '浊响' '清晰' '凹陷' '硬滑' '是']\n",
      " ['乌黑' '蜷缩' '沉闷' '清晰' '凹陷' '硬滑' '是']\n",
      " ['乌黑' '蜷缩' '浊响' '清晰' '凹陷' '硬滑' '是']\n",
      " ['青绿' '蜷缩' '沉闷' '清晰' '凹陷' '硬滑' '是']\n",
      " ['浅白' '蜷缩' '浊响' '清晰' '凹陷' '硬滑' '是']\n",
      " ['青绿' '稍蜷' '浊响' '清晰' '稍凹' '软粘' '是']\n",
      " ['乌黑' '稍蜷' '浊响' '稍糊' '稍凹' '软粘' '是']\n",
      " ['乌黑' '稍蜷' '浊响' '清晰' '稍凹' '硬滑' '是']\n",
      " ['乌黑' '稍蜷' '沉闷' '稍糊' '稍凹' '硬滑' '否']\n",
      " ['青绿' '硬挺' '清脆' '清晰' '平坦' '软粘' '否']\n",
      " ['浅白' '硬挺' '清脆' '模糊' '平坦' '硬滑' '否']\n",
      " ['浅白' '蜷缩' '浊响' '模糊' '平坦' '软粘' '否']\n",
      " ['青绿' '稍蜷' '浊响' '稍糊' '凹陷' '硬滑' '否']\n",
      " ['浅白' '稍蜷' '沉闷' '稍糊' '凹陷' '硬滑' '否']\n",
      " ['乌黑' '稍蜷' '浊响' '清晰' '稍凹' '软粘' '否']\n",
      " ['浅白' '蜷缩' '浊响' '模糊' '平坦' '硬滑' '否']\n",
      " ['青绿' '蜷缩' '沉闷' '稍糊' '稍凹' '硬滑' '否']]\n"
     ]
    }
   ],
   "source": [
    "data_path=r'watermelon3_0_Ch.csv'\n",
    "data_raw=pd.read_csv(data_path)\n",
    "\n",
    "Attributes=data_raw.keys().values # 属性np数组\n",
    "Attributes=np.array([column for column in Attributes if column not in ['编号','密度','含糖率','好瓜']])\n",
    "\n",
    "X=data_raw.values[:,1:7] # 特征值\n",
    "y=data_raw.values[:,9:] # 分类结果\n",
    "data=np.c_[X,y] # 训练样本，最后一列为类别\n",
    "\n",
    "print(type(data),type(Attributes))\n",
    "print(Attributes)\n",
    "print(data) "
   ],
   "metadata": {
    "collapsed": false,
    "ExecuteTime": {
     "end_time": "2023-10-26T05:31:01.888016500Z",
     "start_time": "2023-10-26T05:31:01.872165500Z"
    }
   },
   "id": "80c81854db0662f4"
  },
  {
   "cell_type": "markdown",
   "source": [
    "## 计算信息熵"
   ],
   "metadata": {
    "collapsed": false
   },
   "id": "8736337436030881"
  },
  {
   "cell_type": "code",
   "execution_count": 19,
   "outputs": [],
   "source": [
    "def get_ent(data_):\n",
    "    # 记录样本数\n",
    "    m=data_.shape[0]\n",
    "    # 返回一个装有若干个元组的列表，每个元组包含着类别和出现的次数,并按出现次数降序排列\n",
    "    counter_=Counter(data_[:,-1]).most_common() # [(5, 4), (3, 3), (2, 2), (1, 1), (4, 1)]  (value，count)\n",
    "    p_list=[element[1]/m for element in counter_]\n",
    "    entropy=-np.sum([pk*np.log2(pk) for pk in p_list])\n",
    "    return entropy"
   ],
   "metadata": {
    "collapsed": false,
    "ExecuteTime": {
     "end_time": "2023-10-26T05:31:38.981887900Z",
     "start_time": "2023-10-26T05:31:38.978220700Z"
    }
   },
   "id": "e2cf63f02718b7ad"
  },
  {
   "cell_type": "markdown",
   "source": [
    "## 计算某划分属性的信息增益"
   ],
   "metadata": {
    "collapsed": false
   },
   "id": "a13d6755cdb5515b"
  },
  {
   "cell_type": "code",
   "execution_count": 35,
   "outputs": [],
   "source": [
    "def gain(data_,attribute_,raw_attributes):\n",
    "    # 得到总数据集的信息熵\n",
    "    ent_data_=get_ent(data_)\n",
    "    print(ent_data_)\n",
    "    # 总的样本数\n",
    "    m=data_.shape[0]\n",
    "    \n",
    "    # 得到该索引所在的列索引值\n",
    "    col_index_=np.where(raw_attributes==attribute_)[0][0]\n",
    "    print(f'col_index: {col_index_}  {attribute_}')\n",
    "    attribute_values_=set(data_[:,col_index_])\n",
    "    print(f'attribute_values_: {attribute_values_}')\n",
    "    \n",
    "    sum_sub_data_ent=0\n",
    "    for attribute_value in attribute_values_:\n",
    "        # 得到该属性值在样本集中的行索引列表\n",
    "        print(f'np.where(data_[:,{col_index_}]=={attribute_value}): {np.where(data_[:,col_index_]==attribute_value)}')\n",
    "        # 得到行索引一维数组\n",
    "        row_indexes=np.where(data_[:,col_index_]==attribute_value)[0]\n",
    "        print(row_indexes)\n",
    "        # 得到取该属性值在样本子集\n",
    "        data_sub=data_[row_indexes,:]\n",
    "        n=data_sub.shape[0]\n",
    "        # 得到条件熵的和\n",
    "        sum_sub_data_ent+=n/m*get_ent(data_sub)\n",
    "    \n",
    "    print('================================\\n')\n",
    "    return ent_data_-sum_sub_data_ent"
   ],
   "metadata": {
    "collapsed": false,
    "ExecuteTime": {
     "end_time": "2023-10-26T05:46:30.040031700Z",
     "start_time": "2023-10-26T05:46:30.028905600Z"
    }
   },
   "id": "ddb95ca1a3770762"
  },
  {
   "cell_type": "markdown",
   "source": [
    "## 选择最好的划分属性"
   ],
   "metadata": {
    "collapsed": false
   },
   "id": "5247d126900be01"
  },
  {
   "cell_type": "code",
   "execution_count": 37,
   "outputs": [],
   "source": [
    "def choose_best_attribute(data_,attributes_,raw_attributes_):\n",
    "    gain_dict={}\n",
    "    for attribute in attributes_:\n",
    "        # 得到每个属性的信息增益\n",
    "        gain_dict[attribute]=gain(data_,attribute,raw_attributes_)\n",
    "    #选取增益最大的划分属性\n",
    "    best_attribute=max(gain_dict,key=lambda k: gain_dict[k])\n",
    "    print(gain_dict)\n",
    "    return best_attribute"
   ],
   "metadata": {
    "collapsed": false,
    "ExecuteTime": {
     "end_time": "2023-10-26T05:49:57.800152800Z",
     "start_time": "2023-10-26T05:49:57.788498700Z"
    }
   },
   "id": "d1823ab7a8e8e21c"
  },
  {
   "cell_type": "code",
   "execution_count": 38,
   "outputs": [
    {
     "name": "stdout",
     "output_type": "stream",
     "text": [
      "0.9975025463691153\n",
      "col_index: 0  色泽\n",
      "attribute_values_: {'浅白', '乌黑', '青绿'}\n",
      "np.where(data_[:,0]==浅白): (array([ 4, 10, 11, 13, 15], dtype=int64),)\n",
      "[ 4 10 11 13 15]\n",
      "np.where(data_[:,0]==乌黑): (array([ 1,  2,  6,  7,  8, 14], dtype=int64),)\n",
      "[ 1  2  6  7  8 14]\n",
      "np.where(data_[:,0]==青绿): (array([ 0,  3,  5,  9, 12, 16], dtype=int64),)\n",
      "[ 0  3  5  9 12 16]\n",
      "================================\n",
      "\n",
      "0.9975025463691153\n",
      "col_index: 1  根蒂\n",
      "attribute_values_: {'蜷缩', '硬挺', '稍蜷'}\n",
      "np.where(data_[:,1]==蜷缩): (array([ 0,  1,  2,  3,  4, 11, 15, 16], dtype=int64),)\n",
      "[ 0  1  2  3  4 11 15 16]\n",
      "np.where(data_[:,1]==硬挺): (array([ 9, 10], dtype=int64),)\n",
      "[ 9 10]\n",
      "np.where(data_[:,1]==稍蜷): (array([ 5,  6,  7,  8, 12, 13, 14], dtype=int64),)\n",
      "[ 5  6  7  8 12 13 14]\n",
      "================================\n",
      "\n",
      "0.9975025463691153\n",
      "col_index: 2  敲声\n",
      "attribute_values_: {'浊响', '沉闷', '清脆'}\n",
      "np.where(data_[:,2]==浊响): (array([ 0,  2,  4,  5,  6,  7, 11, 12, 14, 15], dtype=int64),)\n",
      "[ 0  2  4  5  6  7 11 12 14 15]\n",
      "np.where(data_[:,2]==沉闷): (array([ 1,  3,  8, 13, 16], dtype=int64),)\n",
      "[ 1  3  8 13 16]\n",
      "np.where(data_[:,2]==清脆): (array([ 9, 10], dtype=int64),)\n",
      "[ 9 10]\n",
      "================================\n",
      "\n",
      "0.9975025463691153\n",
      "col_index: 3  纹理\n",
      "attribute_values_: {'稍糊', '清晰', '模糊'}\n",
      "np.where(data_[:,3]==稍糊): (array([ 6,  8, 12, 13, 16], dtype=int64),)\n",
      "[ 6  8 12 13 16]\n",
      "np.where(data_[:,3]==清晰): (array([ 0,  1,  2,  3,  4,  5,  7,  9, 14], dtype=int64),)\n",
      "[ 0  1  2  3  4  5  7  9 14]\n",
      "np.where(data_[:,3]==模糊): (array([10, 11, 15], dtype=int64),)\n",
      "[10 11 15]\n",
      "================================\n",
      "\n",
      "0.9975025463691153\n",
      "col_index: 4  脐部\n",
      "attribute_values_: {'稍凹', '平坦', '凹陷'}\n",
      "np.where(data_[:,4]==稍凹): (array([ 5,  6,  7,  8, 14, 16], dtype=int64),)\n",
      "[ 5  6  7  8 14 16]\n",
      "np.where(data_[:,4]==平坦): (array([ 9, 10, 11, 15], dtype=int64),)\n",
      "[ 9 10 11 15]\n",
      "np.where(data_[:,4]==凹陷): (array([ 0,  1,  2,  3,  4, 12, 13], dtype=int64),)\n",
      "[ 0  1  2  3  4 12 13]\n",
      "================================\n",
      "\n",
      "0.9975025463691153\n",
      "col_index: 5  触感\n",
      "attribute_values_: {'硬滑', '软粘'}\n",
      "np.where(data_[:,5]==硬滑): (array([ 0,  1,  2,  3,  4,  7,  8, 10, 12, 13, 15, 16], dtype=int64),)\n",
      "[ 0  1  2  3  4  7  8 10 12 13 15 16]\n",
      "np.where(data_[:,5]==软粘): (array([ 5,  6,  9, 11, 14], dtype=int64),)\n",
      "[ 5  6  9 11 14]\n",
      "================================\n",
      "\n",
      "{'色泽': 0.10812516526536531, '根蒂': 0.14267495956679288, '敲声': 0.14078143361499584, '纹理': 0.3805918973682686, '脐部': 0.28915878284167895, '触感': 0.006046489176565584}\n",
      "纹理\n"
     ]
    }
   ],
   "source": [
    "print(choose_best_attribute(data,Attributes,Attributes))"
   ],
   "metadata": {
    "collapsed": false,
    "ExecuteTime": {
     "end_time": "2023-10-26T05:50:00.481008Z",
     "start_time": "2023-10-26T05:50:00.467492700Z"
    }
   },
   "id": "6131a5e088fe7bd4"
  },
  {
   "cell_type": "markdown",
   "source": [
    "## 生成决策树"
   ],
   "metadata": {
    "collapsed": false
   },
   "id": "f439a7eeb3279c00"
  },
  {
   "cell_type": "code",
   "execution_count": 44,
   "outputs": [],
   "source": [
    "def tree_generate(data_,attributes_,raw_attributes):\n",
    "    node=Node()\n",
    "    # 当该节点的训练集类别一样时，返回\n",
    "    if len(set(data_[:,-1]))==1:\n",
    "        node.is_leaf=True\n",
    "        node.classification=data_[0,-1]\n",
    "        return node\n",
    "    # 当属性集为空时，返回\n",
    "    elif attributes_.size==0:\n",
    "        node.is_leaf=True\n",
    "        counter=Counter(data_[:,-1])\n",
    "        node.classification=counter.most_common()[0][0]\n",
    "        return node\n",
    "    \n",
    "    # 从属性集中选择最优划分属性\n",
    "    attribute_best=choose_best_attribute(data_,attributes_,raw_attributes)\n",
    "    # 更新属性集，删除最优属性\n",
    "    attributes_update=np.delete(attributes_,np.where(attributes_==attribute_best))\n",
    "    # 更新该节点的最优划分属性\n",
    "    node.divide_attribute=attribute_best\n",
    "    \n",
    "    # 找到最优划分属性所在的data列索引值\n",
    "    col_index=np.where(raw_attributes==attribute_best)[0][0] # np.where() 返回元组 a = (array([5], dtype=int64),)  a[0]取到numpy数组\n",
    "    # 得到最优划分属性所对应的属性值集合\n",
    "    attribute_values=set(data_[:,col_index])\n",
    "    # 对每个属性值建立一条分支\n",
    "    for value in attribute_values:\n",
    "        # 得到该属性值在样本集中的行索引列表\n",
    "        row_indexes=np.where(data_[:,col_index]==value)[0] # np.where() 返回元组 a = (array([5], dtype=int64),)  a[0]取到numpy数组\n",
    "        # 得到取该属性值在样本子集\n",
    "        data_sub=data_[row_indexes,:]\n",
    "        \n",
    "        # 如果该子集为空\n",
    "        if data_sub.size==0:\n",
    "            # 生成一条分支\n",
    "            child_node=Node()\n",
    "            child_node.is_leaf=True\n",
    "            # 挑选数量最多的类别\n",
    "            counter_=Counter(data_[:,-1]).most_common() # [(5, 4), (3, 3), (2, 2), (1, 1), (4, 1)]  (value，count)\n",
    "            child_node.classification=counter_[0][0]\n",
    "        else:\n",
    "            child_node=tree_generate(data_sub,attributes_update,raw_attributes)\n",
    "        node.divide_children[value]=child_node\n",
    "    return node"
   ],
   "metadata": {
    "collapsed": false,
    "ExecuteTime": {
     "end_time": "2023-10-26T06:02:59.579993600Z",
     "start_time": "2023-10-26T06:02:59.562894800Z"
    }
   },
   "id": "dd00a7ffec7d21cc"
  },
  {
   "cell_type": "code",
   "execution_count": 59,
   "outputs": [
    {
     "name": "stdout",
     "output_type": "stream",
     "text": [
      "0.9975025463691153\n",
      "col_index: 0  色泽\n",
      "attribute_values_: {'浅白', '乌黑', '青绿'}\n",
      "np.where(data_[:,0]==浅白): (array([ 4, 10, 11, 13, 15], dtype=int64),)\n",
      "[ 4 10 11 13 15]\n",
      "np.where(data_[:,0]==乌黑): (array([ 1,  2,  6,  7,  8, 14], dtype=int64),)\n",
      "[ 1  2  6  7  8 14]\n",
      "np.where(data_[:,0]==青绿): (array([ 0,  3,  5,  9, 12, 16], dtype=int64),)\n",
      "[ 0  3  5  9 12 16]\n",
      "================================\n",
      "\n",
      "0.9975025463691153\n",
      "col_index: 1  根蒂\n",
      "attribute_values_: {'蜷缩', '硬挺', '稍蜷'}\n",
      "np.where(data_[:,1]==蜷缩): (array([ 0,  1,  2,  3,  4, 11, 15, 16], dtype=int64),)\n",
      "[ 0  1  2  3  4 11 15 16]\n",
      "np.where(data_[:,1]==硬挺): (array([ 9, 10], dtype=int64),)\n",
      "[ 9 10]\n",
      "np.where(data_[:,1]==稍蜷): (array([ 5,  6,  7,  8, 12, 13, 14], dtype=int64),)\n",
      "[ 5  6  7  8 12 13 14]\n",
      "================================\n",
      "\n",
      "0.9975025463691153\n",
      "col_index: 2  敲声\n",
      "attribute_values_: {'浊响', '沉闷', '清脆'}\n",
      "np.where(data_[:,2]==浊响): (array([ 0,  2,  4,  5,  6,  7, 11, 12, 14, 15], dtype=int64),)\n",
      "[ 0  2  4  5  6  7 11 12 14 15]\n",
      "np.where(data_[:,2]==沉闷): (array([ 1,  3,  8, 13, 16], dtype=int64),)\n",
      "[ 1  3  8 13 16]\n",
      "np.where(data_[:,2]==清脆): (array([ 9, 10], dtype=int64),)\n",
      "[ 9 10]\n",
      "================================\n",
      "\n",
      "0.9975025463691153\n",
      "col_index: 3  纹理\n",
      "attribute_values_: {'稍糊', '清晰', '模糊'}\n",
      "np.where(data_[:,3]==稍糊): (array([ 6,  8, 12, 13, 16], dtype=int64),)\n",
      "[ 6  8 12 13 16]\n",
      "np.where(data_[:,3]==清晰): (array([ 0,  1,  2,  3,  4,  5,  7,  9, 14], dtype=int64),)\n",
      "[ 0  1  2  3  4  5  7  9 14]\n",
      "np.where(data_[:,3]==模糊): (array([10, 11, 15], dtype=int64),)\n",
      "[10 11 15]\n",
      "================================\n",
      "\n",
      "0.9975025463691153\n",
      "col_index: 4  脐部\n",
      "attribute_values_: {'稍凹', '平坦', '凹陷'}\n",
      "np.where(data_[:,4]==稍凹): (array([ 5,  6,  7,  8, 14, 16], dtype=int64),)\n",
      "[ 5  6  7  8 14 16]\n",
      "np.where(data_[:,4]==平坦): (array([ 9, 10, 11, 15], dtype=int64),)\n",
      "[ 9 10 11 15]\n",
      "np.where(data_[:,4]==凹陷): (array([ 0,  1,  2,  3,  4, 12, 13], dtype=int64),)\n",
      "[ 0  1  2  3  4 12 13]\n",
      "================================\n",
      "\n",
      "0.9975025463691153\n",
      "col_index: 5  触感\n",
      "attribute_values_: {'硬滑', '软粘'}\n",
      "np.where(data_[:,5]==硬滑): (array([ 0,  1,  2,  3,  4,  7,  8, 10, 12, 13, 15, 16], dtype=int64),)\n",
      "[ 0  1  2  3  4  7  8 10 12 13 15 16]\n",
      "np.where(data_[:,5]==软粘): (array([ 5,  6,  9, 11, 14], dtype=int64),)\n",
      "[ 5  6  9 11 14]\n",
      "================================\n",
      "\n",
      "{'色泽': 0.10812516526536531, '根蒂': 0.14267495956679288, '敲声': 0.14078143361499584, '纹理': 0.3805918973682686, '脐部': 0.28915878284167895, '触感': 0.006046489176565584}\n",
      "0.7219280948873623\n",
      "col_index: 0  色泽\n",
      "attribute_values_: {'浅白', '乌黑', '青绿'}\n",
      "np.where(data_[:,0]==浅白): (array([3], dtype=int64),)\n",
      "[3]\n",
      "np.where(data_[:,0]==乌黑): (array([0, 1], dtype=int64),)\n",
      "[0 1]\n",
      "np.where(data_[:,0]==青绿): (array([2, 4], dtype=int64),)\n",
      "[2 4]\n",
      "================================\n",
      "\n",
      "0.7219280948873623\n",
      "col_index: 1  根蒂\n",
      "attribute_values_: {'蜷缩', '稍蜷'}\n",
      "np.where(data_[:,1]==蜷缩): (array([4], dtype=int64),)\n",
      "[4]\n",
      "np.where(data_[:,1]==稍蜷): (array([0, 1, 2, 3], dtype=int64),)\n",
      "[0 1 2 3]\n",
      "================================\n",
      "\n",
      "0.7219280948873623\n",
      "col_index: 2  敲声\n",
      "attribute_values_: {'浊响', '沉闷'}\n",
      "np.where(data_[:,2]==浊响): (array([0, 2], dtype=int64),)\n",
      "[0 2]\n",
      "np.where(data_[:,2]==沉闷): (array([1, 3, 4], dtype=int64),)\n",
      "[1 3 4]\n",
      "================================\n",
      "\n",
      "0.7219280948873623\n",
      "col_index: 4  脐部\n",
      "attribute_values_: {'稍凹', '凹陷'}\n",
      "np.where(data_[:,4]==稍凹): (array([0, 1, 4], dtype=int64),)\n",
      "[0 1 4]\n",
      "np.where(data_[:,4]==凹陷): (array([2, 3], dtype=int64),)\n",
      "[2 3]\n",
      "================================\n",
      "\n",
      "0.7219280948873623\n",
      "col_index: 5  触感\n",
      "attribute_values_: {'硬滑', '软粘'}\n",
      "np.where(data_[:,5]==硬滑): (array([1, 2, 3, 4], dtype=int64),)\n",
      "[1 2 3 4]\n",
      "np.where(data_[:,5]==软粘): (array([0], dtype=int64),)\n",
      "[0]\n",
      "================================\n",
      "\n",
      "{'色泽': 0.3219280948873623, '根蒂': 0.07290559532005603, '敲声': 0.3219280948873623, '脐部': 0.17095059445466865, '触感': 0.7219280948873623}\n",
      "0.7642045065086203\n",
      "col_index: 0  色泽\n",
      "attribute_values_: {'浅白', '乌黑', '青绿'}\n",
      "np.where(data_[:,0]==浅白): (array([4], dtype=int64),)\n",
      "[4]\n",
      "np.where(data_[:,0]==乌黑): (array([1, 2, 6, 8], dtype=int64),)\n",
      "[1 2 6 8]\n",
      "np.where(data_[:,0]==青绿): (array([0, 3, 5, 7], dtype=int64),)\n",
      "[0 3 5 7]\n",
      "================================\n",
      "\n",
      "0.7642045065086203\n",
      "col_index: 1  根蒂\n",
      "attribute_values_: {'蜷缩', '硬挺', '稍蜷'}\n",
      "np.where(data_[:,1]==蜷缩): (array([0, 1, 2, 3, 4], dtype=int64),)\n",
      "[0 1 2 3 4]\n",
      "np.where(data_[:,1]==硬挺): (array([7], dtype=int64),)\n",
      "[7]\n",
      "np.where(data_[:,1]==稍蜷): (array([5, 6, 8], dtype=int64),)\n",
      "[5 6 8]\n",
      "================================\n",
      "\n",
      "0.7642045065086203\n",
      "col_index: 2  敲声\n",
      "attribute_values_: {'浊响', '沉闷', '清脆'}\n",
      "np.where(data_[:,2]==浊响): (array([0, 2, 4, 5, 6, 8], dtype=int64),)\n",
      "[0 2 4 5 6 8]\n",
      "np.where(data_[:,2]==沉闷): (array([1, 3], dtype=int64),)\n",
      "[1 3]\n",
      "np.where(data_[:,2]==清脆): (array([7], dtype=int64),)\n",
      "[7]\n",
      "================================\n",
      "\n",
      "0.7642045065086203\n",
      "col_index: 4  脐部\n",
      "attribute_values_: {'稍凹', '平坦', '凹陷'}\n",
      "np.where(data_[:,4]==稍凹): (array([5, 6, 8], dtype=int64),)\n",
      "[5 6 8]\n",
      "np.where(data_[:,4]==平坦): (array([7], dtype=int64),)\n",
      "[7]\n",
      "np.where(data_[:,4]==凹陷): (array([0, 1, 2, 3, 4], dtype=int64),)\n",
      "[0 1 2 3 4]\n",
      "================================\n",
      "\n",
      "0.7642045065086203\n",
      "col_index: 5  触感\n",
      "attribute_values_: {'硬滑', '软粘'}\n",
      "np.where(data_[:,5]==硬滑): (array([0, 1, 2, 3, 4, 6], dtype=int64),)\n",
      "[0 1 2 3 4 6]\n",
      "np.where(data_[:,5]==软粘): (array([5, 7, 8], dtype=int64),)\n",
      "[5 7 8]\n",
      "================================\n",
      "\n",
      "{'色泽': 0.04306839587828004, '根蒂': 0.45810589515712374, '敲声': 0.33085622540971754, '脐部': 0.45810589515712374, '触感': 0.45810589515712374}\n",
      "0.9182958340544896\n",
      "col_index: 0  色泽\n",
      "attribute_values_: {'乌黑', '青绿'}\n",
      "np.where(data_[:,0]==乌黑): (array([1, 2], dtype=int64),)\n",
      "[1 2]\n",
      "np.where(data_[:,0]==青绿): (array([0], dtype=int64),)\n",
      "[0]\n",
      "================================\n",
      "\n",
      "0.9182958340544896\n",
      "col_index: 2  敲声\n",
      "attribute_values_: {'浊响'}\n",
      "np.where(data_[:,2]==浊响): (array([0, 1, 2], dtype=int64),)\n",
      "[0 1 2]\n",
      "================================\n",
      "\n",
      "0.9182958340544896\n",
      "col_index: 4  脐部\n",
      "attribute_values_: {'稍凹'}\n",
      "np.where(data_[:,4]==稍凹): (array([0, 1, 2], dtype=int64),)\n",
      "[0 1 2]\n",
      "================================\n",
      "\n",
      "0.9182958340544896\n",
      "col_index: 5  触感\n",
      "attribute_values_: {'硬滑', '软粘'}\n",
      "np.where(data_[:,5]==硬滑): (array([1], dtype=int64),)\n",
      "[1]\n",
      "np.where(data_[:,5]==软粘): (array([0, 2], dtype=int64),)\n",
      "[0 2]\n",
      "================================\n",
      "\n",
      "{'色泽': 0.2516291673878229, '敲声': 0.0, '脐部': 0.0, '触感': 0.2516291673878229}\n",
      "1.0\n",
      "col_index: 2  敲声\n",
      "attribute_values_: {'浊响'}\n",
      "np.where(data_[:,2]==浊响): (array([0, 1], dtype=int64),)\n",
      "[0 1]\n",
      "================================\n",
      "\n",
      "1.0\n",
      "col_index: 4  脐部\n",
      "attribute_values_: {'稍凹'}\n",
      "np.where(data_[:,4]==稍凹): (array([0, 1], dtype=int64),)\n",
      "[0 1]\n",
      "================================\n",
      "\n",
      "1.0\n",
      "col_index: 5  触感\n",
      "attribute_values_: {'硬滑', '软粘'}\n",
      "np.where(data_[:,5]==硬滑): (array([0], dtype=int64),)\n",
      "[0]\n",
      "np.where(data_[:,5]==软粘): (array([1], dtype=int64),)\n",
      "[1]\n",
      "================================\n",
      "\n",
      "{'敲声': 0.0, '脐部': 0.0, '触感': 1.0}\n"
     ]
    }
   ],
   "source": [
    "decision_tree=tree_generate(data,Attributes,Attributes)"
   ],
   "metadata": {
    "collapsed": false,
    "ExecuteTime": {
     "end_time": "2023-10-26T09:10:16.336963100Z",
     "start_time": "2023-10-26T09:10:16.293074600Z"
    }
   },
   "id": "93de61738e2c6799"
  },
  {
   "cell_type": "code",
   "execution_count": 79,
   "outputs": [],
   "source": [
    "def predict(node:Node,data_pred_,raw_attributes):\n",
    "    res = np.array([''] * data_pred_.shape[0], dtype='str')\n",
    "    if node.is_leaf:\n",
    "        res=[node.classification for row_data in data_pred_]\n",
    "        return res\n",
    "    col_index=np.where(raw_attributes==node.divide_attribute)[0][0]\n",
    "    columns=set(data_pred_[:,col_index])\n",
    "    for column in columns:\n",
    "        row_indexes=np.where(data_pred_==column)[0]\n",
    "        res_sub=predict(node.divide_children[column],data_pred_[row_indexes,:],raw_attributes)\n",
    "        for i,index in enumerate(row_indexes):\n",
    "            res[index]=res_sub[i]\n",
    "    return res"
   ],
   "metadata": {
    "collapsed": false,
    "ExecuteTime": {
     "end_time": "2023-10-26T09:30:38.016251900Z",
     "start_time": "2023-10-26T09:30:37.979207500Z"
    }
   },
   "id": "38a74fe5c7dd2af3"
  },
  {
   "cell_type": "code",
   "execution_count": 81,
   "outputs": [
    {
     "name": "stdout",
     "output_type": "stream",
     "text": [
      "['是' '否' '否']\n"
     ]
    }
   ],
   "source": [
    "data_pred=np.array([['青绿','蜷缩','浊响','清晰' ,'凹陷','硬滑'],\n",
    "                    ['青绿','蜷缩','沉闷','稍糊','稍凹','硬滑'],\n",
    "                    ['浅白','蜷缩','浊响','模糊','平坦','硬滑']])\n",
    "print(predict(decision_tree,data_pred,Attributes))"
   ],
   "metadata": {
    "collapsed": false,
    "ExecuteTime": {
     "end_time": "2023-10-26T09:33:47.967134700Z",
     "start_time": "2023-10-26T09:33:47.920097500Z"
    }
   },
   "id": "ff736c241a10324f"
  },
  {
   "cell_type": "code",
   "execution_count": null,
   "outputs": [],
   "source": [],
   "metadata": {
    "collapsed": false
   },
   "id": "54b08f5f1c66b0a"
  },
  {
   "cell_type": "code",
   "execution_count": null,
   "outputs": [],
   "source": [],
   "metadata": {
    "collapsed": false
   },
   "id": "ce751e2013f1b68f"
  },
  {
   "cell_type": "code",
   "execution_count": null,
   "outputs": [],
   "source": [],
   "metadata": {
    "collapsed": false
   },
   "id": "60ed0a7ffeb0c5e"
  },
  {
   "cell_type": "code",
   "execution_count": null,
   "outputs": [],
   "source": [],
   "metadata": {
    "collapsed": false
   },
   "id": "7bc320deebe929b3"
  },
  {
   "cell_type": "code",
   "execution_count": 61,
   "outputs": [
    {
     "name": "stdout",
     "output_type": "stream",
     "text": [
      "(array([5], dtype=int64),)\n",
      "{'软粘', '硬滑'}\n"
     ]
    }
   ],
   "source": [
    "col_index1=np.where(Attributes=='触感')\n",
    "print(col_index1)\n",
    "    # 得到最优划分属性所对应的属性值集合\n",
    "attribute_values1=set(data[:,col_index1[0][0]])\n",
    "print(attribute_values1)"
   ],
   "metadata": {
    "collapsed": false,
    "ExecuteTime": {
     "start_time": "2023-10-25T17:00:14.291047Z"
    }
   },
   "id": "cc0ff1fd4b3316e8"
  },
  {
   "cell_type": "code",
   "execution_count": 74,
   "outputs": [
    {
     "name": "stdout",
     "output_type": "stream",
     "text": [
      "['' '' '' '' '' '' '' '' '' '']\n"
     ]
    }
   ],
   "source": [
    "res = np.array([''] * 10, dtype='str')\n",
    "print(res)"
   ],
   "metadata": {
    "collapsed": false,
    "ExecuteTime": {
     "end_time": "2023-10-26T09:29:27.329451100Z",
     "start_time": "2023-10-26T09:29:27.289696800Z"
    }
   },
   "id": "ec62fdef2e5fd103"
  },
  {
   "cell_type": "code",
   "execution_count": 54,
   "outputs": [
    {
     "name": "stdout",
     "output_type": "stream",
     "text": [
      "[True, True]\n",
      "[[0]\n",
      " [1]\n",
      " [2]\n",
      " [3]\n",
      " [4]\n",
      " [5]\n",
      " [6]\n",
      " [7]\n",
      " [8]\n",
      " [9]]\n"
     ]
    }
   ],
   "source": [
    "a=np.array([[1,2,],[3,4]])\n",
    "re_=[True for e in a]\n",
    "print(re_)\n",
    "b=np.arange(10).reshape((10,1))\n",
    "print(b)"
   ],
   "metadata": {
    "collapsed": false,
    "ExecuteTime": {
     "end_time": "2023-10-26T08:59:13.893319900Z",
     "start_time": "2023-10-26T08:59:13.883908200Z"
    }
   },
   "id": "c813863dd5656be9"
  },
  {
   "cell_type": "code",
   "execution_count": 124,
   "outputs": [
    {
     "name": "stdout",
     "output_type": "stream",
     "text": [
      "[1 1 4 5]\n",
      "(array([5], dtype=int64),)\n",
      "[1 1 4 5]\n"
     ]
    }
   ],
   "source": [
    "a=np.array([1,1,3,3,4,5])\n",
    "print(a[a!=3])\n",
    "print(np.where(a==5))\n",
    "a=np.delete(a,np.where(a==3))\n",
    "print(a)"
   ],
   "metadata": {
    "collapsed": false,
    "ExecuteTime": {
     "end_time": "2023-10-26T05:23:11.185452600Z",
     "start_time": "2023-10-26T05:23:11.170676800Z"
    }
   },
   "id": "d8207d72b7d378d0"
  },
  {
   "cell_type": "code",
   "execution_count": 49,
   "outputs": [
    {
     "name": "stdout",
     "output_type": "stream",
     "text": [
      "True\n"
     ]
    }
   ],
   "source": [
    "a=np.array([[]])\n",
    "print(a.size==0)"
   ],
   "metadata": {
    "collapsed": false,
    "ExecuteTime": {
     "end_time": "2023-10-25T15:36:38.880515300Z",
     "start_time": "2023-10-25T15:36:38.864507100Z"
    }
   },
   "id": "beb883fdeb13af28"
  },
  {
   "cell_type": "code",
   "execution_count": 41,
   "outputs": [
    {
     "name": "stdout",
     "output_type": "stream",
     "text": [
      "列的值不全相同\n",
      "{1, 2, 3} <class 'set'>\n",
      "列的所有值都相同\n"
     ]
    }
   ],
   "source": [
    "column_values = [1, 1, 2, 2, 3]  # 你的列数据\n",
    "unique_values = set(column_values)\n",
    "if len(unique_values) == 1:\n",
    "    print(\"列的所有值都相同\")\n",
    "else:\n",
    "    print(\"列的值不全相同\")\n",
    "\n",
    "print(unique_values,type(unique_values))\n",
    "\n",
    "\n",
    "\n",
    "column_values = np.array([1, 1, 1, 1, 1])  # 你的列数据\n",
    "all_same = np.all(column_values == column_values[0])\n",
    "if all_same:\n",
    "    print(\"列的所有值都相同\")\n",
    "else:\n",
    "    print(\"列的值不全相同\")\n"
   ],
   "metadata": {
    "collapsed": false,
    "ExecuteTime": {
     "end_time": "2023-10-25T15:13:17.464196800Z",
     "start_time": "2023-10-25T15:13:17.442028600Z"
    }
   },
   "id": "4f8d0c8901ff36d9"
  },
  {
   "cell_type": "code",
   "execution_count": 77,
   "outputs": [
    {
     "name": "stdout",
     "output_type": "stream",
     "text": [
      "[(5, 4), (3, 3), (2, 2), (1, 1), (4, 1)]\n",
      "5\n",
      "Counter({'否': 3, '是': 1})\n",
      "[('否', 3), ('是', 1)]\n",
      "否\n"
     ]
    }
   ],
   "source": [
    "data_column = np.array([1, 2, 2, 3, 3, 3, 5, 5, 5, 4, 5])\n",
    "counter1 = Counter(data_column)\n",
    "print(counter1.most_common())\n",
    "print(counter1.most_common()[0][0])\n",
    "data_column = np.array(['是','否','否','否'])\n",
    "counter2 = Counter(data_column)\n",
    "print(counter2)\n",
    "print(counter2.most_common())\n",
    "print(counter2.most_common()[0][0])"
   ],
   "metadata": {
    "collapsed": false,
    "ExecuteTime": {
     "end_time": "2023-10-26T04:33:53.690863400Z",
     "start_time": "2023-10-26T04:33:53.671510100Z"
    }
   },
   "id": "4968c72806cb8f98"
  }
 ],
 "metadata": {
  "kernelspec": {
   "display_name": "Python 3",
   "language": "python",
   "name": "python3"
  },
  "language_info": {
   "codemirror_mode": {
    "name": "ipython",
    "version": 2
   },
   "file_extension": ".py",
   "mimetype": "text/x-python",
   "name": "python",
   "nbconvert_exporter": "python",
   "pygments_lexer": "ipython2",
   "version": "2.7.6"
  }
 },
 "nbformat": 4,
 "nbformat_minor": 5
}
